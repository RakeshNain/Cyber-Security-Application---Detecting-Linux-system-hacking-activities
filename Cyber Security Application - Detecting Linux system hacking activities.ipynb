{
 "cells": [
  {
   "cell_type": "markdown",
   "metadata": {},
   "source": [
    "# Cyber Security Application - Detecting Linux system hacking activities\n",
    "Investigating the open data from the Cyber Range Labs of UNSW\n",
    "Canberra and build models based on the data to identify abnormal system behaviour. In\n",
    "addition, integrate the machine learning models into the streaming\n",
    "platform using Apache Kafka and Apache Spark Streaming to detect any real-time threats, in\n",
    "order to stop the hacking."
   ]
  },
  {
   "cell_type": "markdown",
   "metadata": {},
   "source": [
    "## Part - A -- Creating Models to identify cyber attacks\n",
    "Here I am processing the static data and training machine learning models based on them.\n",
    "Part A of the project consists of preparing the data, performing data exploration and extracting features, building and persisting the machine learning models."
   ]
  },
  {
   "cell_type": "markdown",
   "metadata": {},
   "source": [
    "Developer: **Rakesh Nain**"
   ]
  },
  {
   "cell_type": "markdown",
   "metadata": {},
   "source": [
    "## Table of Contents\n",
    "\n",
    "* [Important imports](#one)\n",
    "* [1. Data preparation and exploration (35%)](#1)\n",
    "    * [1.1 Creating Spark Session (4%)](#1.1)\n",
    "    * [1.2 Loading the data (16%)](#1.2)\n",
    "    * [1.3 Exploring the data (15%) ](#1.3)\n",
    "* [2. Feature extraction and ML training (55%)](#2)        \n",
    "    * [2.1 Preparing the training data and testing data (4%)](#2.1)\n",
    "    * [2.2 Preparing features, labels and models (16%)](#2.2)\n",
    "    * [2.3 Training and evaluating models (35%)](#2.3)\n",
    "* [3. Knowledge sharing (10%)](#3)\n",
    "    * [3.1 How many jobs are observed when training the KMeans clustering model following the code below? Provide a screenshot from Spark UI for running a simple KMeans model training. (0.5%) ](#3.1)\n",
    "    * [3.2. Combining the KMeans algorithm from the lecture, explain what each job in Spark UI represents (9.5%)](#3.2)"
   ]
  },
  {
   "cell_type": "markdown",
   "metadata": {},
   "source": [
    "### Information on Dataset\n",
    "Four data files recorded from Linux systems are provided, which captures information\n",
    "relating to the memory activity, and process activity. They are a subset of the Internet of\n",
    "Things dataset collected by Dr. Nour Moustafa, from IoT devices, Linux systems, Windows\n",
    "systems, and network devices. For more detailed information on the dataset, please refer to\n",
    "the Metadata file included in my [GitHub repository](https://github.com/RakeshNain/Cyber-Security-Application---Detecting-Linux-system-hacking-activities.git) or from the website https://ieee-dataport.org/documents/toniot-datasets.\n",
    "\n",
    "### Download Data for this project from my [Drive](https://drive.google.com/drive/folders/14NkpX2hKXTwFq_6v-rXLZIUCrVmjOo4s?usp=sharing)\n",
    "\n",
    "In this website, the memory activity and the process activity data are provided\n",
    "separately, without explicit linkage or computer ID to link up memory and process. For each\n",
    "data, there is a binary label and a multi-class label, one for indicating whether the activity is\n",
    "an attack or not, and the other for indicating which kind of attack the activity is under."
   ]
  },
  {
   "cell_type": "markdown",
   "metadata": {},
   "source": [
    "### What is Part-A of project is trying to achive?\n",
    "Build separate models for the memory activity and the process activity. Each activity needs a model for a binary classification or predicting weather it is an attack or not.\n",
    "To build the binary classification model, using the column “attack” as label in the model (label 0 as\n",
    "non-attack event, and label 1 as attack event)."
   ]
  },
  {
   "attachments": {
    "Architecture.jpg": {
     "image/jpeg": "[encoded data removed]"
    }
   },
   "cell_type": "markdown",
   "metadata": {},
   "source": [
    "## Architecture of whole project\n",
    "The overall architecture of the project is represented by the following figure. Part\n",
    "A of the project consists of preparing the data, performing data exploration and\n",
    "extracting features, building and persisting the machine learning models.\n",
    "\n",
    "![Architecture.jpg](attachment:Architecture.jpg)\n",
    "\n",
    "In both parts, for the data pre-processing, the machine learning processes, I have implement the solutions using PySpark SQL / MLlib / ML packages."
   ]
  },
  {
   "cell_type": "markdown",
   "metadata": {},
   "source": [
    "### Important imports <a class=\"anchor\" id=\"one\"></a>"
   ]
  },
  {
   "cell_type": "code",
   "execution_count": 3,
   "metadata": {},
   "outputs": [],
   "source": [
    "# Import SparkConf class into program\n",
    "from pyspark import SparkConf\n",
    "\n",
    "# Import SparkContext and SparkSession classes\n",
    "from pyspark import SparkContext # Spark\n",
    "from pyspark.sql import SparkSession # Spark SQL\n",
    "\n",
    "from pyspark.sql.types import *\n",
    "\n",
    "from pyspark.sql.functions import *\n",
    "\n",
    "import matplotlib.pyplot as plt\n",
    "\n",
    "from pyspark.ml.feature import StringIndexer\n",
    "from pyspark.ml.feature import OneHotEncoder\n",
    "from pyspark.ml.feature import VectorAssembler\n",
    "\n",
    "\n",
    "from pyspark.ml import Pipeline\n",
    " \n",
    "from pyspark.ml.classification import DecisionTreeClassifier\n",
    "from pyspark.ml.classification import GBTClassifier\n",
    "from pyspark.mllib.evaluation import BinaryClassificationMetrics as bcm\n",
    "import pandas as pd\n",
    "\n",
    "from pyspark.ml.evaluation import BinaryClassificationEvaluator\n",
    "from pyspark.ml.evaluation import MulticlassClassificationEvaluator\n",
    "from pyspark.ml import PipelineModel\n",
    "\n",
    "from pyspark.ml.clustering import KMeans\n",
    "\n",
    "from sklearn.metrics import roc_curve, auc"
   ]
  },
  {
   "cell_type": "markdown",
   "metadata": {},
   "source": [
    "### Data preparation and exploration <a class=\"anchor\" id=\"1\"></a>\n",
    "#### Creating Spark Session <a class=\"anchor\" id=\"1.1\"></a>\n",
    "\n",
    "Creating a SparkConf object for using as many local cores as possible, with a proper application name, and for changing the max partition byte configuration to enable a minimum of partitions when reading each file in Spark SQL (so each dataframe should have at least 4 partitions when reading from the given datafiles)."
   ]
  },
  {
   "cell_type": "code",
   "execution_count": 4,
   "metadata": {},
   "outputs": [],
   "source": [
    "# local[*]: run Spark in local mode with as many working processors as logical cores on your machine\n",
    "master = \"local[*]\"\n",
    "\n",
    "# The `appName` field is a name to be shown on the Spark cluster UI page\n",
    "app_name = \"Machine learning models to find hackers\"\n",
    "\n",
    "# Setup configuration parameters for Spark\n",
    "spark_conf = SparkConf().setMaster(master).setAppName(app_name)\n",
    "\n",
    "\n",
    "# Using SparkSession\n",
    "spark = SparkSession.builder.config(conf=spark_conf).config(\"spark.sql.files.maxPartitionBytes\", 31000000).getOrCreate()\n",
    "sc = spark.sparkContext\n",
    "sc.setLogLevel('ERROR')"
   ]
  },
  {
   "cell_type": "markdown",
   "metadata": {},
   "source": [
    "#### Loading the data <a class=\"anchor\" id=\"1.2\"></a>\n",
    "\n",
    "Loading each activity data into a Spark dataframe and caching the data. Then printing out the row count of each dataframe.\n",
    "\n",
    "- In order to speed up the loading process, specifying the schema before\n",
    "  reading the data into dataframes. Note: I have found relevant schema info from the\n",
    "  metadata file, however, some data may not fully comply with the\n",
    "  schema. For those not comply with the schema, importing them as\n",
    "  StringType and further transforming them in next steps."
   ]
  },
  {
   "cell_type": "code",
   "execution_count": 5,
   "metadata": {},
   "outputs": [],
   "source": [
    "process_dtype = [(\"ts\", IntegerType()),(\"PID\", IntegerType()),(\"TRUN\", IntegerType()), \n",
    "                (\"TSLPI\", IntegerType()), (\"TSLPU\", IntegerType()), (\"POLI\", StringType()),\n",
    "                (\"NICE\", IntegerType()),(\"PRI\", IntegerType()),(\"RTPR\", IntegerType()), \n",
    "                (\"CPUNR\", IntegerType()), (\"Status\", StringType()), (\"EXC\", IntegerType()),\n",
    "                (\"State\", StringType()), (\"CPU\", IntegerType()), (\"CMD\", StringType()),\n",
    "                (\"attack\", IntegerType()),(\"type\", StringType())]\n",
    "   \n",
    "memory_dtype = [(\"ts\", IntegerType()),(\"PID\", IntegerType()),(\"MINFLT\", IntegerType()), \n",
    "                (\"MAJFLT\", IntegerType()), (\"VSTEXT\", IntegerType()), (\"VSIZE\", IntegerType()),\n",
    "                (\"RSIZE\", IntegerType()),(\"VGROW\", IntegerType()),(\"RGROW\", IntegerType()), \n",
    "                (\"MEM\", IntegerType()), (\"CMD\", StringType()), (\"attack\", IntegerType()),\n",
    "                (\"type\", StringType())]    \n",
    "\n",
    "process_fields = [StructField(field_name[0], field_name[1], True) for field_name in process_dtype]\n",
    "memory_fields = [StructField(field_name[0], field_name[1], True) for field_name in memory_dtype]\n",
    "\n",
    "\n",
    "process_schema = StructType(process_fields)\n",
    "memory_schema = StructType(memory_fields)\n",
    "\n",
    "\n",
    "linux_process = spark.read.csv('linux_process_*.csv', header=True, schema = process_schema)\n",
    "linux_memory = spark.read.csv('linux_memory_*.csv', header=True, schema = memory_schema)"
   ]
  },
  {
   "cell_type": "code",
   "execution_count": 6,
   "metadata": {},
   "outputs": [
    {
     "name": "stdout",
     "output_type": "stream",
     "text": [
      "process data total rows:  1927968\n",
      "memory data total rows:  2000000\n"
     ]
    }
   ],
   "source": [
    "linux_process = linux_process.cache()\n",
    "print(\"process data total rows: \", linux_process.count())\n",
    "\n",
    "linux_memory = linux_memory.cache()\n",
    "print(\"memory data total rows: \", linux_memory.count())"
   ]
  },
  {
   "cell_type": "markdown",
   "metadata": {},
   "source": [
    "For each column in each dataframe above, checking the null data (if any) and printing out the corresponding count in each column"
   ]
  },
  {
   "cell_type": "code",
   "execution_count": 7,
   "metadata": {
    "scrolled": true
   },
   "outputs": [
    {
     "name": "stdout",
     "output_type": "stream",
     "text": [
      "Null values in Process Data:\n",
      "+---+---+----+-----+-----+----+----+---+----+-----+------+---+-----+------+---+------+----+\n",
      "| ts|PID|TRUN|TSLPI|TSLPU|POLI|NICE|PRI|RTPR|CPUNR|Status|EXC|State|   CPU|CMD|attack|type|\n",
      "+---+---+----+-----+-----+----+----+---+----+-----+------+---+-----+------+---+------+----+\n",
      "|  0|  0|   0|    0|    0|   0|   0|  0|   0|    0|     0|  0|    0|512374|  0|     0|   0|\n",
      "+---+---+----+-----+-----+----+----+---+----+-----+------+---+-----+------+---+------+----+\n",
      "\n"
     ]
    }
   ],
   "source": [
    "print(\"Null values in Process Data:\")\n",
    "linux_process.select([count(when(isnan(c) | col(c).isNull(), c)).alias(c) for c in linux_process.columns]).show()"
   ]
  },
  {
   "cell_type": "code",
   "execution_count": 8,
   "metadata": {
    "scrolled": true
   },
   "outputs": [
    {
     "name": "stdout",
     "output_type": "stream",
     "text": [
      "Null values in Memory Data:\n",
      "+---+---+------+------+------+------+-----+-----+-----+------+---+------+----+\n",
      "| ts|PID|MINFLT|MAJFLT|VSTEXT| VSIZE|RSIZE|VGROW|RGROW|   MEM|CMD|attack|type|\n",
      "+---+---+------+------+------+------+-----+-----+-----+------+---+------+----+\n",
      "|  0|  0|  9737|448868| 27907|523958|83545|50912|10294|302276|  0|     0|   0|\n",
      "+---+---+------+------+------+------+-----+-----+-----+------+---+------+----+\n",
      "\n"
     ]
    }
   ],
   "source": [
    "print(\"Null values in Memory Data:\")\n",
    "linux_memory.select([count(when(isnan(c) | col(c).isNull(), c)).alias(c) for c in linux_memory.columns]).show()"
   ]
  },
  {
   "cell_type": "markdown",
   "metadata": {},
   "source": [
    "<span style=\"color:green\">\n",
    "We saw many null values in 8 columns of Memory data, by further check we see that these columns types should be string because these columns contain characters such s 'K', 'M' etc. According to research and metadata, we need to load these columns as string type and then replace these characters with appropriate zeros because 'K' represents thousands, 'M' represents millions and so on.\n",
    "    </span>"
   ]
  },
  {
   "cell_type": "code",
   "execution_count": 9,
   "metadata": {},
   "outputs": [],
   "source": [
    "process_dtype = [(\"ts\", IntegerType()),(\"PID\", IntegerType()),(\"TRUN\", IntegerType()), \n",
    "                (\"TSLPI\", IntegerType()), (\"TSLPU\", IntegerType()), (\"POLI\", StringType()),\n",
    "                (\"NICE\", IntegerType()),(\"PRI\", IntegerType()),(\"RTPR\", IntegerType()), \n",
    "                (\"CPUNR\", IntegerType()), (\"Status\", StringType()), (\"EXC\", IntegerType()),\n",
    "                (\"State\", StringType()), (\"CPU\", DoubleType()), (\"CMD\", StringType()),\n",
    "                (\"attack\", IntegerType()),(\"type\", StringType())]\n",
    "   \n",
    "memory_dtype = [(\"ts\", IntegerType()),(\"PID\", IntegerType()),(\"MINFLT\", StringType()), \n",
    "                (\"MAJFLT\", StringType()), (\"VSTEXT\", StringType()), (\"VSIZE\", StringType()),\n",
    "                (\"RSIZE\", StringType()),(\"VGROW\", StringType()),(\"RGROW\", StringType()), \n",
    "                (\"MEM\", StringType()), (\"CMD\", StringType()), (\"attack\", IntegerType()),\n",
    "                (\"type\", StringType())]    \n",
    "\n",
    "process_fields = [StructField(field_name[0], field_name[1], True) for field_name in process_dtype]\n",
    "memory_fields = [StructField(field_name[0], field_name[1], True) for field_name in memory_dtype]\n",
    "\n",
    "\n",
    "process_schema = StructType(process_fields)\n",
    "memory_schema = StructType(memory_fields)\n",
    "\n",
    "\n",
    "linux_process_updated = spark.read.csv('linux_process_*.csv', header=True, schema = process_schema)\n",
    "linux_memory_updated = spark.read.csv('linux_memory_*.csv', header=True, schema = memory_schema)"
   ]
  },
  {
   "cell_type": "code",
   "execution_count": 10,
   "metadata": {},
   "outputs": [],
   "source": [
    "def strip_mk(s):\n",
    "    striped_s = s.replace('K', '000').replace(\"M\", \"000000\").replace(\"G\", \"000000000\").replace(\" \", \"\")\n",
    "    return float(striped_s)\n",
    "\n",
    "def strip_mk_int(s):\n",
    "    striped_s = s.replace('K', '000').replace(\"M\", \"000000\").replace(\"G\", \"000000000\").replace(\" \", \"\")\n",
    "    return int(striped_s)\n",
    "\n",
    "def strip_gt_lt(s):\n",
    "    striped_s = s.lstrip(\"<\").rstrip(\">\")\n",
    "    return striped_s\n",
    "\n",
    "strip_mk_udf = udf(strip_mk, FloatType())\n",
    "strip_mk_int_udf = udf(strip_mk_int, IntegerType())\n",
    "strip_gt_lt_udf = udf(strip_gt_lt, StringType())\n",
    "\n",
    "\n",
    "\n",
    "linux_memory_cleaned = linux_memory_updated.withColumn('MAJFLT',strip_mk_udf('MAJFLT')).withColumn('MINFLT',strip_mk_int_udf('MINFLT')).\\\n",
    "                       withColumn('VSTEXT',strip_mk_udf('VSTEXT')).withColumn('RSIZE',strip_mk_udf('RSIZE')).\\\n",
    "                       withColumn('VGROW',strip_mk_udf('VGROW')).withColumn('RGROW',strip_mk_udf('RGROW')).\\\n",
    "                       withColumn('MEM',strip_mk_udf('MEM')).withColumn('VSIZE',strip_mk_udf('VSIZE')).withColumn('CMD',strip_gt_lt_udf('CMD'))\n",
    "\n",
    "linux_process_cleaned = linux_process_updated.withColumn('CMD', strip_gt_lt_udf('CMD'))"
   ]
  },
  {
   "cell_type": "code",
   "execution_count": 11,
   "metadata": {},
   "outputs": [],
   "source": [
    "linux_memory_cleaned = linux_memory_cleaned.cache()\n",
    "linux_process_cleaned = linux_process_cleaned.cache()"
   ]
  },
  {
   "cell_type": "markdown",
   "metadata": {},
   "source": [
    "<span style=\"color:green\">\n",
    "Null values after cleaning:\n",
    "    </span>"
   ]
  },
  {
   "cell_type": "code",
   "execution_count": 12,
   "metadata": {},
   "outputs": [
    {
     "name": "stdout",
     "output_type": "stream",
     "text": [
      "Null values in Memory Data:\n",
      "+---+---+------+------+------+-----+-----+-----+-----+---+---+------+----+\n",
      "| ts|PID|MINFLT|MAJFLT|VSTEXT|VSIZE|RSIZE|VGROW|RGROW|MEM|CMD|attack|type|\n",
      "+---+---+------+------+------+-----+-----+-----+-----+---+---+------+----+\n",
      "|  0|  0|     0|     0|     0|    0|    0|    0|    0|  0|  0|     0|   0|\n",
      "+---+---+------+------+------+-----+-----+-----+-----+---+---+------+----+\n",
      "\n"
     ]
    }
   ],
   "source": [
    "print(\"Null values in Memory Data:\")\n",
    "linux_memory_cleaned.select([count(when(isnan(c) | col(c).isNull(), c)).alias(c) for c in linux_memory_cleaned.columns]).show()"
   ]
  },
  {
   "cell_type": "code",
   "execution_count": 13,
   "metadata": {
    "scrolled": true
   },
   "outputs": [
    {
     "name": "stdout",
     "output_type": "stream",
     "text": [
      "Null values in Process Data:\n",
      "+---+---+----+-----+-----+----+----+---+----+-----+------+---+-----+---+---+------+----+\n",
      "| ts|PID|TRUN|TSLPI|TSLPU|POLI|NICE|PRI|RTPR|CPUNR|Status|EXC|State|CPU|CMD|attack|type|\n",
      "+---+---+----+-----+-----+----+----+---+----+-----+------+---+-----+---+---+------+----+\n",
      "|  0|  0|   0|    0|    0|   0|   0|  0|   0|    0|     0|  0|    0|  0|  0|     0|   0|\n",
      "+---+---+----+-----+-----+----+----+---+----+-----+------+---+-----+---+---+------+----+\n",
      "\n"
     ]
    }
   ],
   "source": [
    "print(\"Null values in Process Data:\")\n",
    "linux_process_cleaned.select([count(when(isnan(c) | col(c).isNull(), c)).alias(c) for c in linux_process_cleaned.columns]).show()"
   ]
  },
  {
   "cell_type": "markdown",
   "metadata": {},
   "source": [
    "#### Exploring the data <a class=\"anchor\" id=\"1.3\"></a>\n",
    "Finding the class imbalance by checking count of attack and non-attack in each activity based on the column “attack”, then checking the count of each kind of attack in process activity based on the column “type”."
   ]
  },
  {
   "cell_type": "code",
   "execution_count": 14,
   "metadata": {
    "scrolled": true
   },
   "outputs": [
    {
     "name": "stdout",
     "output_type": "stream",
     "text": [
      "+------+-------+\n",
      "|attack|  Total|\n",
      "+------+-------+\n",
      "|     1| 205623|\n",
      "|     0|1794377|\n",
      "+------+-------+\n",
      "\n"
     ]
    }
   ],
   "source": [
    "memory_attack = linux_memory_cleaned.groupby('attack').agg(count(linux_memory_cleaned.attack).alias('Total'))\n",
    "memory_attack.show()"
   ]
  },
  {
   "cell_type": "code",
   "execution_count": 15,
   "metadata": {},
   "outputs": [
    {
     "name": "stdout",
     "output_type": "stream",
     "text": [
      "+------+-------+\n",
      "|attack|  Total|\n",
      "+------+-------+\n",
      "|     1| 291364|\n",
      "|     0|1636604|\n",
      "+------+-------+\n",
      "\n"
     ]
    }
   ],
   "source": [
    "process_attack = linux_process_cleaned.groupby('attack').agg(count(linux_process_cleaned.attack).alias('Total'))\n",
    "process_attack.show()"
   ]
  },
  {
   "cell_type": "markdown",
   "metadata": {},
   "source": [
    "<span style=\"color:green\">\n",
    "We see a huge class imbalace in both data sets. In both the data sets number of non-attacks are more than 7 times of attacks.\n",
    "    </span>"
   ]
  },
  {
   "cell_type": "markdown",
   "metadata": {},
   "source": [
    "For each numeric feature in each activity, checking the basic statistics (including count, mean, stddev, min, max)"
   ]
  },
  {
   "cell_type": "code",
   "execution_count": 16,
   "metadata": {},
   "outputs": [
    {
     "data": {
      "text/html": [
       "<div>\n",
       "<style scoped>\n",
       "    .dataframe tbody tr th:only-of-type {\n",
       "        vertical-align: middle;\n",
       "    }\n",
       "\n",
       "    .dataframe tbody tr th {\n",
       "        vertical-align: top;\n",
       "    }\n",
       "\n",
       "    .dataframe thead th {\n",
       "        text-align: right;\n",
       "    }\n",
       "</style>\n",
       "<table border=\"1\" class=\"dataframe\">\n",
       "  <thead>\n",
       "    <tr style=\"text-align: right;\">\n",
       "      <th></th>\n",
       "      <th>ts</th>\n",
       "      <th>PID</th>\n",
       "      <th>MINFLT</th>\n",
       "      <th>MAJFLT</th>\n",
       "      <th>VSTEXT</th>\n",
       "      <th>VSIZE</th>\n",
       "      <th>RSIZE</th>\n",
       "      <th>VGROW</th>\n",
       "      <th>RGROW</th>\n",
       "      <th>MEM</th>\n",
       "      <th>attack</th>\n",
       "    </tr>\n",
       "  </thead>\n",
       "  <tbody>\n",
       "    <tr>\n",
       "      <th>count</th>\n",
       "      <td>2.000000e+06</td>\n",
       "      <td>2000000.00</td>\n",
       "      <td>2000000.00</td>\n",
       "      <td>2000000.00</td>\n",
       "      <td>2000000.00</td>\n",
       "      <td>2000000.00</td>\n",
       "      <td>2000000.00</td>\n",
       "      <td>2000000.00</td>\n",
       "      <td>2000000.00</td>\n",
       "      <td>2000000.00</td>\n",
       "      <td>2000000.0</td>\n",
       "    </tr>\n",
       "    <tr>\n",
       "      <th>mean</th>\n",
       "      <td>1.556246e+09</td>\n",
       "      <td>4999.36</td>\n",
       "      <td>983.34</td>\n",
       "      <td>1104.83</td>\n",
       "      <td>46261.23</td>\n",
       "      <td>4487.53</td>\n",
       "      <td>6119.68</td>\n",
       "      <td>984.42</td>\n",
       "      <td>483.03</td>\n",
       "      <td>0.00</td>\n",
       "      <td>0.1</td>\n",
       "    </tr>\n",
       "    <tr>\n",
       "      <th>std</th>\n",
       "      <td>9.844634e+05</td>\n",
       "      <td>4887.31</td>\n",
       "      <td>19229.61</td>\n",
       "      <td>5156.57</td>\n",
       "      <td>658176.50</td>\n",
       "      <td>8949.54</td>\n",
       "      <td>15869.98</td>\n",
       "      <td>86169.95</td>\n",
       "      <td>1491.30</td>\n",
       "      <td>0.01</td>\n",
       "      <td>0.3</td>\n",
       "    </tr>\n",
       "    <tr>\n",
       "      <th>min</th>\n",
       "      <td>1.554217e+09</td>\n",
       "      <td>1007.00</td>\n",
       "      <td>0.00</td>\n",
       "      <td>0.00</td>\n",
       "      <td>0.00</td>\n",
       "      <td>0.00</td>\n",
       "      <td>-9728.00</td>\n",
       "      <td>-9392000.00</td>\n",
       "      <td>0.00</td>\n",
       "      <td>0.00</td>\n",
       "      <td>0.0</td>\n",
       "    </tr>\n",
       "    <tr>\n",
       "      <th>25%</th>\n",
       "      <td>1.555468e+09</td>\n",
       "      <td>2242.00</td>\n",
       "      <td>0.00</td>\n",
       "      <td>0.00</td>\n",
       "      <td>25.00</td>\n",
       "      <td>0.00</td>\n",
       "      <td>0.00</td>\n",
       "      <td>0.00</td>\n",
       "      <td>0.00</td>\n",
       "      <td>0.00</td>\n",
       "      <td>0.0</td>\n",
       "    </tr>\n",
       "    <tr>\n",
       "      <th>50%</th>\n",
       "      <td>1.556444e+09</td>\n",
       "      <td>2847.00</td>\n",
       "      <td>10.00</td>\n",
       "      <td>0.00</td>\n",
       "      <td>148.00</td>\n",
       "      <td>0.00</td>\n",
       "      <td>98.20</td>\n",
       "      <td>0.00</td>\n",
       "      <td>0.00</td>\n",
       "      <td>0.00</td>\n",
       "      <td>0.0</td>\n",
       "    </tr>\n",
       "    <tr>\n",
       "      <th>75%</th>\n",
       "      <td>1.556859e+09</td>\n",
       "      <td>4374.00</td>\n",
       "      <td>132.00</td>\n",
       "      <td>173.90</td>\n",
       "      <td>2132.00</td>\n",
       "      <td>732.30</td>\n",
       "      <td>2608.00</td>\n",
       "      <td>0.00</td>\n",
       "      <td>0.00</td>\n",
       "      <td>0.00</td>\n",
       "      <td>0.0</td>\n",
       "    </tr>\n",
       "    <tr>\n",
       "      <th>max</th>\n",
       "      <td>1.558356e+09</td>\n",
       "      <td>53096.00</td>\n",
       "      <td>8050000.00</td>\n",
       "      <td>107776.00</td>\n",
       "      <td>11200000.00</td>\n",
       "      <td>88040.00</td>\n",
       "      <td>216000.00</td>\n",
       "      <td>11160000.00</td>\n",
       "      <td>98920.00</td>\n",
       "      <td>0.44</td>\n",
       "      <td>1.0</td>\n",
       "    </tr>\n",
       "  </tbody>\n",
       "</table>\n",
       "</div>"
      ],
      "text/plain": [
       "                 ts         PID      MINFLT      MAJFLT       VSTEXT  \\\n",
       "count  2.000000e+06  2000000.00  2000000.00  2000000.00   2000000.00   \n",
       "mean   1.556246e+09     4999.36      983.34     1104.83     46261.23   \n",
       "std    9.844634e+05     4887.31    19229.61     5156.57    658176.50   \n",
       "min    1.554217e+09     1007.00        0.00        0.00         0.00   \n",
       "25%    1.555468e+09     2242.00        0.00        0.00        25.00   \n",
       "50%    1.556444e+09     2847.00       10.00        0.00       148.00   \n",
       "75%    1.556859e+09     4374.00      132.00      173.90      2132.00   \n",
       "max    1.558356e+09    53096.00  8050000.00   107776.00  11200000.00   \n",
       "\n",
       "            VSIZE       RSIZE        VGROW       RGROW         MEM     attack  \n",
       "count  2000000.00  2000000.00   2000000.00  2000000.00  2000000.00  2000000.0  \n",
       "mean      4487.53     6119.68       984.42      483.03        0.00        0.1  \n",
       "std       8949.54    15869.98     86169.95     1491.30        0.01        0.3  \n",
       "min          0.00    -9728.00  -9392000.00        0.00        0.00        0.0  \n",
       "25%          0.00        0.00         0.00        0.00        0.00        0.0  \n",
       "50%          0.00       98.20         0.00        0.00        0.00        0.0  \n",
       "75%        732.30     2608.00         0.00        0.00        0.00        0.0  \n",
       "max      88040.00   216000.00  11160000.00    98920.00        0.44        1.0  "
      ]
     },
     "execution_count": 16,
     "metadata": {},
     "output_type": "execute_result"
    }
   ],
   "source": [
    "linux_memory_cleaned.toPandas().describe().round(2)"
   ]
  },
  {
   "cell_type": "code",
   "execution_count": 17,
   "metadata": {
    "scrolled": true
   },
   "outputs": [
    {
     "data": {
      "text/html": [
       "<div>\n",
       "<style scoped>\n",
       "    .dataframe tbody tr th:only-of-type {\n",
       "        vertical-align: middle;\n",
       "    }\n",
       "\n",
       "    .dataframe tbody tr th {\n",
       "        vertical-align: top;\n",
       "    }\n",
       "\n",
       "    .dataframe thead th {\n",
       "        text-align: right;\n",
       "    }\n",
       "</style>\n",
       "<table border=\"1\" class=\"dataframe\">\n",
       "  <thead>\n",
       "    <tr style=\"text-align: right;\">\n",
       "      <th></th>\n",
       "      <th>ts</th>\n",
       "      <th>PID</th>\n",
       "      <th>TRUN</th>\n",
       "      <th>TSLPI</th>\n",
       "      <th>TSLPU</th>\n",
       "      <th>NICE</th>\n",
       "      <th>PRI</th>\n",
       "      <th>RTPR</th>\n",
       "      <th>CPUNR</th>\n",
       "      <th>EXC</th>\n",
       "      <th>CPU</th>\n",
       "      <th>attack</th>\n",
       "    </tr>\n",
       "  </thead>\n",
       "  <tbody>\n",
       "    <tr>\n",
       "      <th>count</th>\n",
       "      <td>1.927968e+06</td>\n",
       "      <td>1927968.00</td>\n",
       "      <td>1927968.00</td>\n",
       "      <td>1927968.00</td>\n",
       "      <td>1927968.00</td>\n",
       "      <td>1927968.00</td>\n",
       "      <td>1927968.00</td>\n",
       "      <td>1927968.0</td>\n",
       "      <td>1927968.00</td>\n",
       "      <td>1927968.00</td>\n",
       "      <td>1927968.00</td>\n",
       "      <td>1927968.00</td>\n",
       "    </tr>\n",
       "    <tr>\n",
       "      <th>mean</th>\n",
       "      <td>1.556320e+09</td>\n",
       "      <td>5068.71</td>\n",
       "      <td>0.06</td>\n",
       "      <td>3.51</td>\n",
       "      <td>0.00</td>\n",
       "      <td>4.63</td>\n",
       "      <td>111.27</td>\n",
       "      <td>0.0</td>\n",
       "      <td>1.92</td>\n",
       "      <td>0.03</td>\n",
       "      <td>0.02</td>\n",
       "      <td>0.15</td>\n",
       "    </tr>\n",
       "    <tr>\n",
       "      <th>std</th>\n",
       "      <td>7.713500e+05</td>\n",
       "      <td>4987.78</td>\n",
       "      <td>0.25</td>\n",
       "      <td>6.99</td>\n",
       "      <td>0.04</td>\n",
       "      <td>8.40</td>\n",
       "      <td>22.62</td>\n",
       "      <td>0.0</td>\n",
       "      <td>1.53</td>\n",
       "      <td>1.46</td>\n",
       "      <td>0.14</td>\n",
       "      <td>0.36</td>\n",
       "    </tr>\n",
       "    <tr>\n",
       "      <th>min</th>\n",
       "      <td>1.554217e+09</td>\n",
       "      <td>1007.00</td>\n",
       "      <td>0.00</td>\n",
       "      <td>0.00</td>\n",
       "      <td>0.00</td>\n",
       "      <td>0.00</td>\n",
       "      <td>0.00</td>\n",
       "      <td>0.0</td>\n",
       "      <td>0.00</td>\n",
       "      <td>0.00</td>\n",
       "      <td>0.00</td>\n",
       "      <td>0.00</td>\n",
       "    </tr>\n",
       "    <tr>\n",
       "      <th>25%</th>\n",
       "      <td>1.556192e+09</td>\n",
       "      <td>2501.00</td>\n",
       "      <td>0.00</td>\n",
       "      <td>1.00</td>\n",
       "      <td>0.00</td>\n",
       "      <td>0.00</td>\n",
       "      <td>100.00</td>\n",
       "      <td>0.0</td>\n",
       "      <td>1.00</td>\n",
       "      <td>0.00</td>\n",
       "      <td>0.00</td>\n",
       "      <td>0.00</td>\n",
       "    </tr>\n",
       "    <tr>\n",
       "      <th>50%</th>\n",
       "      <td>1.556498e+09</td>\n",
       "      <td>3103.00</td>\n",
       "      <td>0.00</td>\n",
       "      <td>1.00</td>\n",
       "      <td>0.00</td>\n",
       "      <td>0.00</td>\n",
       "      <td>120.00</td>\n",
       "      <td>0.0</td>\n",
       "      <td>2.00</td>\n",
       "      <td>0.00</td>\n",
       "      <td>0.00</td>\n",
       "      <td>0.00</td>\n",
       "    </tr>\n",
       "    <tr>\n",
       "      <th>75%</th>\n",
       "      <td>1.556796e+09</td>\n",
       "      <td>4374.00</td>\n",
       "      <td>0.00</td>\n",
       "      <td>3.00</td>\n",
       "      <td>0.00</td>\n",
       "      <td>0.00</td>\n",
       "      <td>120.00</td>\n",
       "      <td>0.0</td>\n",
       "      <td>3.00</td>\n",
       "      <td>0.00</td>\n",
       "      <td>0.01</td>\n",
       "      <td>0.00</td>\n",
       "    </tr>\n",
       "    <tr>\n",
       "      <th>max</th>\n",
       "      <td>1.557593e+09</td>\n",
       "      <td>53080.00</td>\n",
       "      <td>12.00</td>\n",
       "      <td>70.00</td>\n",
       "      <td>21.00</td>\n",
       "      <td>20.00</td>\n",
       "      <td>139.00</td>\n",
       "      <td>0.0</td>\n",
       "      <td>5.00</td>\n",
       "      <td>127.00</td>\n",
       "      <td>4.02</td>\n",
       "      <td>1.00</td>\n",
       "    </tr>\n",
       "  </tbody>\n",
       "</table>\n",
       "</div>"
      ],
      "text/plain": [
       "                 ts         PID        TRUN       TSLPI       TSLPU  \\\n",
       "count  1.927968e+06  1927968.00  1927968.00  1927968.00  1927968.00   \n",
       "mean   1.556320e+09     5068.71        0.06        3.51        0.00   \n",
       "std    7.713500e+05     4987.78        0.25        6.99        0.04   \n",
       "min    1.554217e+09     1007.00        0.00        0.00        0.00   \n",
       "25%    1.556192e+09     2501.00        0.00        1.00        0.00   \n",
       "50%    1.556498e+09     3103.00        0.00        1.00        0.00   \n",
       "75%    1.556796e+09     4374.00        0.00        3.00        0.00   \n",
       "max    1.557593e+09    53080.00       12.00       70.00       21.00   \n",
       "\n",
       "             NICE         PRI       RTPR       CPUNR         EXC         CPU  \\\n",
       "count  1927968.00  1927968.00  1927968.0  1927968.00  1927968.00  1927968.00   \n",
       "mean         4.63      111.27        0.0        1.92        0.03        0.02   \n",
       "std          8.40       22.62        0.0        1.53        1.46        0.14   \n",
       "min          0.00        0.00        0.0        0.00        0.00        0.00   \n",
       "25%          0.00      100.00        0.0        1.00        0.00        0.00   \n",
       "50%          0.00      120.00        0.0        2.00        0.00        0.00   \n",
       "75%          0.00      120.00        0.0        3.00        0.00        0.01   \n",
       "max         20.00      139.00        0.0        5.00      127.00        4.02   \n",
       "\n",
       "           attack  \n",
       "count  1927968.00  \n",
       "mean         0.15  \n",
       "std          0.36  \n",
       "min          0.00  \n",
       "25%          0.00  \n",
       "50%          0.00  \n",
       "75%          0.00  \n",
       "max          1.00  "
      ]
     },
     "execution_count": 17,
     "metadata": {},
     "output_type": "execute_result"
    }
   ],
   "source": [
    "linux_process_cleaned.toPandas().describe().round(2)"
   ]
  },
  {
   "cell_type": "markdown",
   "metadata": {},
   "source": [
    "For each non-numeric feature in each activity, display the top-10 values and the corresponding counts.\n",
    "\n",
    "For memory data:"
   ]
  },
  {
   "cell_type": "code",
   "execution_count": 18,
   "metadata": {},
   "outputs": [
    {
     "name": "stdout",
     "output_type": "stream",
     "text": [
      "+----------+---------+\n",
      "|       CMD|Total CMD|\n",
      "+----------+---------+\n",
      "|      atop|   326030|\n",
      "|   apache2|    90184|\n",
      "| jfsCommit|    81714|\n",
      "|  vmtoolsd|    77871|\n",
      "|      Xorg|    49981|\n",
      "|  nautilus|    48364|\n",
      "|irqbalance|    44387|\n",
      "|    compiz|    44374|\n",
      "|  ostinato|    43024|\n",
      "|     drone|    41392|\n",
      "+----------+---------+\n",
      "only showing top 10 rows\n",
      "\n"
     ]
    }
   ],
   "source": [
    "linux_memory_cleaned.groupby('CMD').agg(count(linux_memory_cleaned.CMD).alias('Total CMD')).sort(col('Total CMD'), ascending=False).show(10)"
   ]
  },
  {
   "cell_type": "code",
   "execution_count": 19,
   "metadata": {},
   "outputs": [
    {
     "name": "stdout",
     "output_type": "stream",
     "text": [
      "+---------+----------+\n",
      "|     type|Total type|\n",
      "+---------+----------+\n",
      "|   normal|   1794377|\n",
      "|      dos|     75283|\n",
      "|injection|     58523|\n",
      "|     ddos|     45689|\n",
      "| password|     26016|\n",
      "|     mitm|       112|\n",
      "+---------+----------+\n",
      "\n"
     ]
    }
   ],
   "source": [
    "linux_memory_cleaned.groupby('type').agg(count(linux_memory_cleaned.type).alias('Total type')).sort(col('Total type'), ascending=False).show(10)"
   ]
  },
  {
   "cell_type": "markdown",
   "metadata": {},
   "source": [
    "For process data:"
   ]
  },
  {
   "cell_type": "code",
   "execution_count": 20,
   "metadata": {},
   "outputs": [
    {
     "name": "stdout",
     "output_type": "stream",
     "text": [
      "+-----+-------+\n",
      "|State|  Total|\n",
      "+-----+-------+\n",
      "|    S|1676350|\n",
      "|    I|  98986|\n",
      "|    R|  84753|\n",
      "|    E|  66410|\n",
      "|    Z|   1118|\n",
      "|    D|    344|\n",
      "|    T|      7|\n",
      "+-----+-------+\n",
      "\n"
     ]
    }
   ],
   "source": [
    "linux_process_cleaned.groupby('State').agg(count(linux_process_cleaned.State).alias('Total')).sort(col('Total'), ascending=False).show(10)"
   ]
  },
  {
   "cell_type": "code",
   "execution_count": 21,
   "metadata": {},
   "outputs": [
    {
     "name": "stdout",
     "output_type": "stream",
     "text": [
      "+------+-------+\n",
      "|Status|  Total|\n",
      "+------+-------+\n",
      "|     -|1416322|\n",
      "|     0| 438984|\n",
      "|    NE|  48602|\n",
      "|     N|  23313|\n",
      "|    NS|    743|\n",
      "|     C|      3|\n",
      "|    NC|      1|\n",
      "+------+-------+\n",
      "\n"
     ]
    }
   ],
   "source": [
    "linux_process_cleaned.groupby('Status').agg(count(linux_process_cleaned.Status).alias('Total')).sort(col('Total'), ascending=False).show(10)"
   ]
  },
  {
   "cell_type": "code",
   "execution_count": 22,
   "metadata": {},
   "outputs": [
    {
     "name": "stdout",
     "output_type": "stream",
     "text": [
      "+----+-------+\n",
      "|POLI|  Total|\n",
      "+----+-------+\n",
      "|norm|1861558|\n",
      "|   0|  53216|\n",
      "|   -|  13194|\n",
      "+----+-------+\n",
      "\n"
     ]
    }
   ],
   "source": [
    "linux_process_cleaned.groupby('POLI').agg(count(linux_process_cleaned.POLI).alias('Total')).sort(col('Total'), ascending=False).show(10)"
   ]
  },
  {
   "cell_type": "code",
   "execution_count": 23,
   "metadata": {},
   "outputs": [
    {
     "name": "stdout",
     "output_type": "stream",
     "text": [
      "+---------+-------+\n",
      "|     type|  Total|\n",
      "+---------+-------+\n",
      "|   normal|1636604|\n",
      "|     ddos|  71603|\n",
      "|      dos|  70721|\n",
      "| password|  51409|\n",
      "|injection|  41311|\n",
      "| scanning|  38449|\n",
      "|      xss|  17759|\n",
      "|     mitm|    112|\n",
      "+---------+-------+\n",
      "\n"
     ]
    }
   ],
   "source": [
    "linux_process_cleaned.groupby('type').agg(count(linux_process_cleaned.type).alias('Total')).sort(col('Total'), ascending=False).show(10)"
   ]
  },
  {
   "cell_type": "code",
   "execution_count": 24,
   "metadata": {},
   "outputs": [
    {
     "name": "stdout",
     "output_type": "stream",
     "text": [
      "+--------------+------+\n",
      "|           CMD| Total|\n",
      "+--------------+------+\n",
      "|          atop|441256|\n",
      "|       apache2|324549|\n",
      "|      vmtoolsd|112029|\n",
      "|          Xorg| 66813|\n",
      "|      nautilus| 63458|\n",
      "|gnome-terminal| 47628|\n",
      "|        compiz| 44404|\n",
      "|    irqbalance| 44324|\n",
      "|      ostinato| 42979|\n",
      "|         drone| 41390|\n",
      "+--------------+------+\n",
      "only showing top 10 rows\n",
      "\n"
     ]
    }
   ],
   "source": [
    "linux_process_cleaned.groupby('CMD').agg(count(linux_process_cleaned.CMD).alias('Total')).sort(col('Total'), ascending=False).show(10)"
   ]
  },
  {
   "cell_type": "markdown",
   "metadata": {},
   "source": [
    "Trying to explore data more by plotting the data and visvalising it."
   ]
  },
  {
   "cell_type": "code",
   "execution_count": 25,
   "metadata": {},
   "outputs": [],
   "source": [
    "# since plotting library works only with pandas data frame that is why converting PySpark dataframe into Pandas Data Frame\n",
    "full_process = linux_process_cleaned.toPandas()\n",
    "full_memory = linux_memory_cleaned.toPandas()"
   ]
  },
  {
   "cell_type": "code",
   "execution_count": 26,
   "metadata": {
    "scrolled": false
   },
   "outputs": [
    {
     "data": {
      "image/png": "[encoded data removed]",
      "text/plain": [
       "<Figure size 1080x720 with 1 Axes>"
      ]
     },
     "metadata": {
      "needs_background": "light"
     },
     "output_type": "display_data"
    }
   ],
   "source": [
    "# bar graph with x-axis(attack types) and y-axis(Total attacks)\n",
    "attack_types = linux_process_cleaned.groupBy('type').agg(sum('attack').alias('Total attacks')).sort(col('Total attacks'), ascending=False).toPandas()\n",
    "plt.figure(figsize=(15,10))\n",
    "\n",
    "plt.bar(attack_types['type'], attack_types['Total attacks'])\n",
    "plt.xlabel(\"Attack Types\", fontdict=None, labelpad=None)\n",
    "plt.ylabel(\"Total Attacks\", fontdict=None, labelpad=None)\n",
    "plt.title(\"linux_process bar graph - Total attacks for each attack type\")\n",
    "plt.show()\n"
   ]
  },
  {
   "cell_type": "markdown",
   "metadata": {},
   "source": [
    "<span style = \"color: green\">\n",
    "This bar graph shows that according to the process data, most number of attack types are ddos and dos they both are more than 70 thousand and the least number of attack types are mitm, which are only 112. Moderate amount are of type password, injection and scanning. By this analysis we can decide priority for what type attacks must be handled 1st and then others low frequency attacks."
   ]
  },
  {
   "cell_type": "code",
   "execution_count": 27,
   "metadata": {
    "scrolled": false
   },
   "outputs": [
    {
     "data": {
      "image/png": "[encoded data removed]",
      "text/plain": [
       "<Figure size 1080x720 with 1 Axes>"
      ]
     },
     "metadata": {
      "needs_background": "light"
     },
     "output_type": "display_data"
    }
   ],
   "source": [
    "# scatter plot\n",
    "plt.figure(figsize=(15,10))\n",
    "\n",
    "plt.scatter(full_process[\"CPU\"], full_process[\"ts\"],\n",
    "           c=full_process[\"attack\"])\n",
    "plt.xlabel(\"CPU time consumption\", fontdict=None, labelpad=None)\n",
    "plt.ylabel(\"time-stamp\", fontdict=None, labelpad=None)\n",
    "plt.title(\"linux_process Scatter Plot - CPU time consumption vs time-stamp\")\n",
    "plt.show()"
   ]
  },
  {
   "cell_type": "markdown",
   "metadata": {},
   "source": [
    "<span style = \"color: green\">\n",
    "This is scatter plot, where x-axis is CPU time consumption, y-axis is time-stamp and here yellow color dot shows attacks and purple color dots shows non-attacks. This scatter plot show two information, 1st it is showing that all most all the attack between time stamp $1.5560 $ 1e9 to $1.5565 $ 1e9.\n",
    "    \n",
    "2nd information is that we see generally if the CPU time consumption are high then the chances that the process is an attack are more as compared to the processs which have less CPU time consumptions."
   ]
  },
  {
   "cell_type": "code",
   "execution_count": 28,
   "metadata": {
    "scrolled": false
   },
   "outputs": [
    {
     "data": {
      "image/png": "[encoded data removed]",
      "text/plain": [
       "<Figure size 1080x720 with 1 Axes>"
      ]
     },
     "metadata": {
      "needs_background": "light"
     },
     "output_type": "display_data"
    }
   ],
   "source": [
    "plt.figure(figsize=(15,10))\n",
    "plt.scatter(full_memory[\"VSTEXT\"], full_memory[\"RSIZE\"],\n",
    "           c=full_memory[\"attack\"])\n",
    "plt.xlabel(\"VSTEXT(virtual memory size used by the shared text of process)\", fontdict=None, labelpad=None)\n",
    "plt.ylabel(\"RSIZE(total resident memory usage consumed by process)\", fontdict=None, labelpad=None)\n",
    "plt.title(\"linux_memory Scatter Plot - VSTEXT vs RSIZE\")\n",
    "plt.show()"
   ]
  },
  {
   "cell_type": "markdown",
   "metadata": {},
   "source": [
    "<span style = \"color: green\">\n",
    "It is a scatter plot where x-axis is VSTEXT(virtual memory size used by the shared text of process) and y-axis is RSIZE(total resident memory usage consumed by process). The yellow dots represent attacks and purple dots represents non-attacks. This plot shows that when RSIZE is extremely big then the activity is potentially attack and also if VSTEXT is extremely big then also chance that the activity is attack are very high."
   ]
  },
  {
   "cell_type": "code",
   "execution_count": 2,
   "metadata": {},
   "outputs": [],
   "source": [
    "f = plt.figure(figsize=(10, 10))\n",
    "plt.matshow(full_memory.corr(), fignum=f.number)\n",
    "plt.xticks(range(full_memory.shape[1]), full_memory.columns, fontsize=14, rotation=45)\n",
    "plt.yticks(range(full_memory.shape[1]), full_memory.columns, fontsize=14)\n",
    "cb = plt.colorbar()\n",
    "cb.ax.tick_params(labelsize=14)\n",
    "plt.title('Correlation Matrix', fontsize=16);"
   ]
  },
  {
   "cell_type": "markdown",
   "metadata": {},
   "source": [
    "<span style = \"color: green\">\n",
    "It is an correlation matrix and we can find important information from it. If two feature have very high correlation then they can be considered as reduntant feature so this correlation matrix is also usefull for feature selection. Although in our correlation matrix we do not see extremely high correaltion but few correlations should be noticed these are 'PID' and 'ts' they have negative correlation of around more than 0.52. And we can see positive correlation between VSTEXT and MINFLT of 0.45 and also positive correlation between RGROWN, ts and MEM, RSIZE is also noticeable."
   ]
  },
  {
   "cell_type": "markdown",
   "metadata": {},
   "source": [
    "### Feature extraction and ML training <a class=\"anchor\" id=\"2\"></a>\n",
    "\n",
    "#### Preparing the training data and testing data <a class=\"anchor\" id=\"2.1\"></a>\n",
    "\n",
    "Randomly spliting the dataset into 80% training data and 20% testing data for each use case"
   ]
  },
  {
   "cell_type": "code",
   "execution_count": 31,
   "metadata": {},
   "outputs": [],
   "source": [
    "seed = 0\n",
    "process_train, process_test = linux_process_cleaned.randomSplit([0.8,0.2],seed)\n",
    "memory_train, memory_test = linux_memory_cleaned.randomSplit([0.8,0.2],seed)"
   ]
  },
  {
   "cell_type": "markdown",
   "metadata": {},
   "source": [
    "With the class imbalance observed above, for the binary classification, preparing rebalanced training data, with attack events and non-attack events being 1:2 ratio, while using 20% attack events data from the training data from above cached the rebalanced training data, and displaying the count of each event's data."
   ]
  },
  {
   "cell_type": "code",
   "execution_count": 32,
   "metadata": {},
   "outputs": [
    {
     "name": "stdout",
     "output_type": "stream",
     "text": [
      "+------+-----+\n",
      "|attack|count|\n",
      "+------+-----+\n",
      "|     0|65472|\n",
      "|     1|32954|\n",
      "+------+-----+\n",
      "\n"
     ]
    }
   ],
   "source": [
    "count_attack_memory = memory_train.groupBy(\"attack\").count().orderBy(\"attack\")\n",
    "\n",
    "total_non_attack_memory = count_attack_memory.where(col(\"attack\") == 0).collect()[0][1]\n",
    "total_attack_memory = count_attack_memory.where(col(\"attack\") == 1).collect()[0][1]\n",
    "\n",
    "ration_attack_memory = (((total_attack_memory)*0.2)*2)/total_non_attack_memory\n",
    "\n",
    "sampled_memory = memory_train.sampleBy(\"attack\", fractions={0: ration_attack_memory, 1: 0.2}, seed=0)\n",
    "\n",
    "memory_t = sampled_memory.cache()\n",
    "memory_t.groupBy(\"attack\").count().orderBy(\"attack\").show()"
   ]
  },
  {
   "cell_type": "code",
   "execution_count": 33,
   "metadata": {},
   "outputs": [
    {
     "name": "stdout",
     "output_type": "stream",
     "text": [
      "+------+-----+\n",
      "|attack|count|\n",
      "+------+-----+\n",
      "|     0|92570|\n",
      "|     1|46812|\n",
      "+------+-----+\n",
      "\n"
     ]
    }
   ],
   "source": [
    "count_attack_process = process_train.groupBy(\"attack\").count().orderBy(\"attack\")\n",
    "\n",
    "total_non_attack_process = count_attack_process.where(col(\"attack\") == 0).collect()[0][1]\n",
    "\n",
    "total_attack_process = count_attack_process.where(col(\"attack\") == 1).collect()[0][1]\n",
    "\n",
    "ration_attack_process = (((total_attack_process)*0.2)*2)/total_non_attack_process\n",
    "\n",
    "sampled_process = process_train.sampleBy(\"attack\", fractions={0: ration_attack_process, 1: 0.2}, seed=0)\n",
    "\n",
    "process_t = sampled_process.cache()\n",
    "process_t.groupBy(\"attack\").count().orderBy(\"attack\").show()"
   ]
  },
  {
   "cell_type": "markdown",
   "metadata": {},
   "source": [
    "#### Preparing features, labels and models <a class=\"anchor\" id=\"2.2\"></a>\n",
    "              "
   ]
  },
  {
   "cell_type": "markdown",
   "metadata": {},
   "source": [
    "#### Based on data exploration from above, reasearch and metadata, selected features will be:"
   ]
  },
  {
   "cell_type": "markdown",
   "metadata": {},
   "source": [
    "<span style = \"color: green\">\n",
    "For Process data:\n",
    "\n",
    "- Selected Features\n",
    "    \n",
    "    - **TSLPI**: It shows number of Number of threads in state 'interruptible sleeping' (S). And we find out that closely, general trend is percentage of attacks are higher as the number of TSLPI increases.\n",
    "    \n",
    "    - **Status**: It is important because percentage of attacks changes according to the status, also, NC status does not have any attack. These thiungs make it an useful feature\n",
    "    \n",
    "    - **State**: It is important because if states are D or Z then total attack percentage is much higher as compared to other states.\n",
    "    \n",
    "    - **CPU**: It is important because we have seen that as the CPU increase then the percentage of attacks also increases\n",
    "    \n",
    "    - **CPUNR**: Current processor which is the identification of the CPU the main thread\n",
    "        of the process is running on or has recently been running on, this thing make it an important identifier of attacker or         non-attacker\n",
    "    - **CMD**: CMD is the name of the process and it is important becuase we have seen many CMD have 100% attack percentage that means chances of attack are very high is those CMD or processes are used.\n",
    "    "
   ]
  },
  {
   "cell_type": "markdown",
   "metadata": {},
   "source": [
    "<span style = \"color: green\">\n",
    "For memory data:\n",
    "\n",
    "- Selected Features    \n",
    "    - **MINFLT**: It is the number of page faults issued by this process that have been solved\n",
    "        by reclaiming the requested memory page from the free list of pages. It is important because we have seen number of MINFLT are higher than 0.5 then it is for sure is not an attack, according to the data.\n",
    "        \n",
    "    - **MAJFLT**: It is the number of page faults issued by this process that have been solved\n",
    "        by creating/loading the requested memory page. According the scatter plot it looks like for few values of MAJFLT the percentage of attack are less as compared to other therefore this feature can be important.\n",
    "        \n",
    "    - **VSTEXT**: It is the virtual memory size used by the shared text of this process. And we find out that if VSTEXT is very large than chance that it is an attack are siginificantly higher.\n",
    "\n",
    "    - **Rsize**: It is important because in some case we have then if R size is extremely high then it is definitely an attack.\n",
    "    \n",
    "    - **CMD**: CMD is the name of the process and it is important becuase we have seen few CMD have 100% attack percentage and many CMD have higher percentage for attack, that means chances of attack are very high if those CMD or processes are used."
   ]
  },
  {
   "cell_type": "markdown",
   "metadata": {},
   "source": [
    "#### Feature Standardising/Normalising:"
   ]
  },
  {
   "cell_type": "markdown",
   "metadata": {},
   "source": [
    "<span style = \"color: green\">\n",
    "    \n",
    "Scaling of memory data is not necessary since almost all the features showing the memory used which is in byte measure, that is all the features are measured in bytes so no need to do scaling in memory data. Similarly in process data as well most of the features are showing count therefore in process data as well we do not need scaling. Normalisation is also not possible since I do not know how the data or each feature is distributed. "
   ]
  },
  {
   "cell_type": "markdown",
   "metadata": {},
   "source": [
    "#### Transformers to use:"
   ]
  },
  {
   "cell_type": "markdown",
   "metadata": {},
   "source": [
    "<span style = \"color: green\">\n",
    "\n",
    "I will be doing string indexer 1st because in both the data we have features in string, so we need to convert them into numbers and then after that I will be using One-Hot encoder to convert numbers into binary digits because of two reasons 1st machine learning algorithm handles binary number in a better way as compared to normal numbers and 2nd is that commands are huge in numbers so converting them into binary digits will be helpful. After One-Hot encoding I will be using Vector Assembler and at last Decision Tree or Gradient Boosting Tree."
   ]
  },
  {
   "cell_type": "markdown",
   "metadata": {},
   "source": [
    "#### Creating Machine Learning Pipelines\n",
    "Preparing Estimators for Decision Tree and Gradient Boosted Tree model for each use case and include them into ML Pipelines for use case 1, 2"
   ]
  },
  {
   "cell_type": "code",
   "execution_count": 34,
   "metadata": {},
   "outputs": [],
   "source": [
    "categoryInputCols_process = ['Status', 'State', 'CMD']\n",
    "numericInputCols_process = ['TSLPI', 'CPU', 'CPUNR']\n",
    "numericOutputCol_process = 'attack'\n",
    "\n",
    "allNumericCols_process = numericInputCols_process + [numericOutputCol_process]"
   ]
  },
  {
   "cell_type": "code",
   "execution_count": 35,
   "metadata": {},
   "outputs": [],
   "source": [
    "outputCols_index_process = [f'{x}_index' for x in categoryInputCols_process]\n",
    "inputIndexer_process = StringIndexer(inputCols=categoryInputCols_process, outputCols=outputCols_index_process).setHandleInvalid(\"skip\")\n",
    "\n",
    "inputCols_OHE_process = outputCols_index_process\n",
    "outputCols_OHE_process = [f'{x}_vec' for x in categoryInputCols_process]\n",
    "encoder_process = OneHotEncoder(inputCols=inputCols_OHE_process,outputCols=outputCols_OHE_process)\n",
    "\n",
    "assemblerInputs_process = outputCols_OHE_process + numericInputCols_process\n",
    "assembler_process = VectorAssembler(inputCols = assemblerInputs_process, outputCol=\"features\")"
   ]
  },
  {
   "cell_type": "code",
   "execution_count": 36,
   "metadata": {},
   "outputs": [],
   "source": [
    "dt_process = DecisionTreeClassifier(featuresCol = 'features', labelCol = 'attack')\n",
    "gbt_process = GBTClassifier(featuresCol = 'features', labelCol = 'attack')\n",
    "\n",
    "stage_process_1 = inputIndexer_process\n",
    "stage_process_2 = encoder_process\n",
    "stage_process_3 = assembler_process\n",
    "stage_process_dt = dt_process\n",
    "stage_process_gbt = gbt_process\n",
    "\n",
    "stages_dt_process = [stage_process_1,stage_process_2,stage_process_3,stage_process_dt]\n",
    "stages_gbt_process = [stage_process_1,stage_process_2,stage_process_3,stage_process_gbt]\n",
    "\n",
    "pipeline_dt_process = Pipeline(stages = stages_dt_process)\n",
    "pipeline_gbt_process = Pipeline(stages = stages_gbt_process)"
   ]
  },
  {
   "cell_type": "code",
   "execution_count": 37,
   "metadata": {},
   "outputs": [],
   "source": [
    "categoryInputCols_memory = ['CMD']\n",
    "numericInputCols_memory = ['VSTEXT', 'RSIZE', 'MINFLT', 'MAJFLT']\n",
    "numericOutputCol_memory = 'attack'\n",
    "\n",
    "allNumericCols_memory = numericInputCols_memory + [numericOutputCol_memory]"
   ]
  },
  {
   "cell_type": "code",
   "execution_count": 38,
   "metadata": {},
   "outputs": [],
   "source": [
    "outputCols_index = [f'{x}_index' for x in categoryInputCols_memory]\n",
    "inputIndexer = StringIndexer(inputCols=categoryInputCols_memory, outputCols=outputCols_index).setHandleInvalid(\"skip\")\n",
    "\n",
    "inputCols_OHE = outputCols_index\n",
    "outputCols_OHE = [f'{x}_vec' for x in categoryInputCols_memory]\n",
    "encoder = OneHotEncoder(inputCols=inputCols_OHE,outputCols=outputCols_OHE)\n",
    "\n",
    "assemblerInputs = outputCols_OHE + numericInputCols_memory\n",
    "assembler = VectorAssembler(inputCols = assemblerInputs, outputCol=\"features\")"
   ]
  },
  {
   "cell_type": "code",
   "execution_count": 39,
   "metadata": {},
   "outputs": [],
   "source": [
    "dt_memory = DecisionTreeClassifier(featuresCol = 'features', labelCol = 'attack')\n",
    "gbt_memory = GBTClassifier(featuresCol = 'features', labelCol = 'attack')\n",
    "\n",
    "stage_1 = inputIndexer\n",
    "stage_2 = encoder\n",
    "stage_3 = assembler\n",
    "stage_dt = dt_memory\n",
    "stage_gbt = gbt_memory\n",
    "\n",
    "stages_dt_memory = [stage_1, stage_2, stage_3, stage_dt]\n",
    "stages_gbt_memory = [stage_1, stage_2, stage_3, stage_gbt]\n",
    "\n",
    "pipeline_dt_memory = Pipeline(stages = stages_dt_memory)\n",
    "pipeline_gbt_memory = Pipeline(stages = stages_gbt_memory)"
   ]
  },
  {
   "cell_type": "markdown",
   "metadata": {},
   "source": [
    "### Training and evaluating models <a class=\"anchor\" id=\"2.3\"></a>\n",
    "For each use case, use their corresponding ML Pipeline from previous step to train the models on the rebalanced training data.\n",
    "\n",
    "Note - each model training might take from 1min to 40min, depending on the\n",
    "    complexity of the pipeline model, the amount of training data and the VM\n",
    "    computing power"
   ]
  },
  {
   "cell_type": "code",
   "execution_count": 40,
   "metadata": {},
   "outputs": [],
   "source": [
    "pipelineModel_dt_process = pipeline_dt_process.fit(process_t)\n",
    "predictions_dt_process = pipelineModel_dt_process.transform(process_test)\n",
    "\n",
    "pipelineModel_gbt_process = pipeline_gbt_process.fit(process_t)\n",
    "predictions_gbt_process = pipelineModel_gbt_process.transform(process_test)\n",
    "\n",
    "pipelineModel_dt_memory = pipeline_dt_memory.fit(memory_t)\n",
    "predictions_dt_memory = pipelineModel_dt_memory.transform(memory_test)\n",
    "\n",
    "pipelineModel_gbt_memory = pipeline_gbt_memory.fit(memory_t)\n",
    "predictions_gbt_memory = pipelineModel_gbt_memory.transform(memory_test)"
   ]
  },
  {
   "cell_type": "markdown",
   "metadata": {},
   "source": [
    "For each use case, testing the models on the testing data and displaying the count of each combination of attack label and prediction label in formats as below.\n",
    "\n",
    "1st lets see thier confusion matrix."
   ]
  },
  {
   "cell_type": "code",
   "execution_count": 41,
   "metadata": {},
   "outputs": [
    {
     "name": "stdout",
     "output_type": "stream",
     "text": [
      "Table of Decision Tree (Process Data)\n",
      "+------+----------+------+\n",
      "|attack|prediction| count|\n",
      "+------+----------+------+\n",
      "|     1|       0.0| 36218|\n",
      "|     0|       0.0|290084|\n",
      "|     1|       1.0| 21994|\n",
      "|     0|       1.0| 37595|\n",
      "+------+----------+------+\n",
      "\n",
      "------------------------------------------------------------------------------------------------------------\n",
      "Table of GBT (Process Data)\n",
      "+------+----------+------+\n",
      "|attack|prediction| count|\n",
      "+------+----------+------+\n",
      "|     1|       0.0| 36375|\n",
      "|     0|       0.0|291642|\n",
      "|     1|       1.0| 21837|\n",
      "|     0|       1.0| 36037|\n",
      "+------+----------+------+\n",
      "\n",
      "------------------------------------------------------------------------------------------------------------\n",
      "Table of DT (Memory Data)\n",
      "+------+----------+------+\n",
      "|attack|prediction| count|\n",
      "+------+----------+------+\n",
      "|     1|       0.0| 26602|\n",
      "|     0|       0.0|321717|\n",
      "|     1|       1.0| 14617|\n",
      "|     0|       1.0| 37367|\n",
      "+------+----------+------+\n",
      "\n",
      "------------------------------------------------------------------------------------------------------------\n",
      "Table of GBT (Memory Data)\n",
      "+------+----------+------+\n",
      "|attack|prediction| count|\n",
      "+------+----------+------+\n",
      "|     1|       0.0| 23986|\n",
      "|     0|       0.0|327499|\n",
      "|     1|       1.0| 17233|\n",
      "|     0|       1.0| 31585|\n",
      "+------+----------+------+\n",
      "\n"
     ]
    }
   ],
   "source": [
    "print(\"Table of Decision Tree (Process Data)\")\n",
    "predictions_dt_process.groupBy('attack', 'prediction').count().show()\n",
    "\n",
    "print(\"------------------------------------------------------------------------------------------------------------\")\n",
    "print(\"Table of GBT (Process Data)\")\n",
    "\n",
    "predictions_gbt_process.groupBy('attack', 'prediction').count().show()\n",
    "\n",
    "print(\"------------------------------------------------------------------------------------------------------------\")\n",
    "print(\"Table of DT (Memory Data)\")\n",
    "\n",
    "predictions_dt_memory.groupBy('attack', 'prediction').count().show()\n",
    "\n",
    "print(\"------------------------------------------------------------------------------------------------------------\")\n",
    "print(\"Table of GBT (Memory Data)\")\n",
    "\n",
    "predictions_gbt_memory.groupBy('attack', 'prediction').count().show()"
   ]
  },
  {
   "cell_type": "markdown",
   "metadata": {},
   "source": [
    "Computing the AUC, accuracy, recall and precision for the attack label from each model testing result using pyspark MLlib / ML APIs. And then discussing which metric is more proper for measuring the model performance on identifying attacks."
   ]
  },
  {
   "cell_type": "code",
   "execution_count": 42,
   "metadata": {},
   "outputs": [
    {
     "name": "stdout",
     "output_type": "stream",
     "text": [
      "Area Under ROC Decision Tree (Process Data): 0.3617213735263717\n",
      "Accuracy Decision Tree (Process Data): 0.8087205972671039\n",
      "Precision Decision Tree (Process Data): 0.8105758249169912\n",
      "Recall Decision Tree (Process Data): 0.808720597267104\n",
      "F1 Decision Tree (Process Data): 0.8096371736311924\n",
      "---------------------------------------------------------------------------------------------------------\n",
      "Area Under ROC GBT (Process Data): 0.7480194568448513\n",
      "Accuracy GBT (Process Data): 0.8123511561554947\n",
      "Precision GBT (Process Data): 0.8119028847731072\n",
      "Recall GBT (Process Data) 0.8123511561554947\n",
      "F1 GBT (Process Data) 0.812126338608044\n",
      "---------------------------------------------------------------------------------------------------------\n",
      "Area Under ROC DT (Memory Data): 0.45378522073695904\n",
      "Accuracy DT (Memory Data): 0.840198549598679\n",
      "Precision DT (Memory Data): 0.8574752583821501\n",
      "Recall DT (Memory Data) 0.840198549598679\n",
      "F1 DT (Memory Data) 0.848211229224932\n",
      "---------------------------------------------------------------------------------------------------------\n",
      "Area Under GBT (Memory Data): 0.8015229504555114\n",
      "Accuracy GBT (Memory Data): 0.8611776579241225\n",
      "Precision GBT (Memory Data): 0.8721641971228228\n",
      "Recall GBT (Memory Data) 0.8611776579241225\n",
      "F1 GBT (Memory Data) 0.8662935659220542\n"
     ]
    }
   ],
   "source": [
    "predictions_dt_process = pipelineModel_dt_process.transform(process_test)\n",
    "predictions_gbt_process = pipelineModel_gbt_process.transform(process_test)\n",
    "predictions_dt_memory = pipelineModel_dt_memory.transform(memory_test)\n",
    "predictions_gbt_memory = pipelineModel_gbt_memory.transform(memory_test)\n",
    "\n",
    "predictions_dt_process = predictions_dt_process.withColumn('label',col('attack').cast(IntegerType()))\n",
    "predictions_gbt_process = predictions_gbt_process.withColumn('label',col('attack').cast(IntegerType()))\n",
    "predictions_dt_memory = predictions_dt_memory.withColumn('label',col('attack').cast(IntegerType()))\n",
    "predictions_gbt_memory = predictions_gbt_memory.withColumn('label',col('attack').cast(IntegerType()))\n",
    "\n",
    "evaluatorMulti = MulticlassClassificationEvaluator(labelCol=\"attack\", predictionCol=\"prediction\")\n",
    "evaluator = BinaryClassificationEvaluator(rawPredictionCol=\"rawPrediction\")\n",
    "\n",
    "print(\"Area Under ROC Decision Tree (Process Data): \" + str(evaluator.evaluate(predictions_dt_process, {evaluator.metricName: \"areaUnderROC\"})))\n",
    "print(\"Accuracy Decision Tree (Process Data): \" + str(evaluatorMulti.evaluate(predictions_dt_process, {evaluatorMulti.metricName: \"accuracy\"})))\n",
    "print(\"Precision Decision Tree (Process Data): \" + str(evaluatorMulti.evaluate(predictions_dt_process, {evaluatorMulti.metricName: \"weightedPrecision\"})))\n",
    "print(\"Recall Decision Tree (Process Data): \" + str(evaluatorMulti.evaluate(predictions_dt_process, {evaluatorMulti.metricName: \"weightedRecall\"})))\n",
    "print(\"F1 Decision Tree (Process Data): \" + str(evaluatorMulti.evaluate(predictions_dt_process, {evaluatorMulti.metricName: \"f1\"})))\n",
    "print(\"---------------------------------------------------------------------------------------------------------\")\n",
    "print(\"Area Under ROC GBT (Process Data): \" + str(evaluator.evaluate(predictions_gbt_process, {evaluator.metricName: \"areaUnderROC\"})))\n",
    "print(\"Accuracy GBT (Process Data): \" + str(evaluatorMulti.evaluate(predictions_gbt_process, {evaluatorMulti.metricName: \"accuracy\"})))\n",
    "print(\"Precision GBT (Process Data): \" + str(evaluatorMulti.evaluate(predictions_gbt_process, {evaluatorMulti.metricName: \"weightedPrecision\"})))\n",
    "print(\"Recall GBT (Process Data) \" + str(evaluatorMulti.evaluate(predictions_gbt_process, {evaluatorMulti.metricName: \"weightedRecall\"})))\n",
    "print(\"F1 GBT (Process Data) \" + str(evaluatorMulti.evaluate(predictions_gbt_process, {evaluatorMulti.metricName: \"f1\"})))\n",
    "print(\"---------------------------------------------------------------------------------------------------------\")\n",
    "print(\"Area Under ROC DT (Memory Data): \" + str(evaluator.evaluate(predictions_dt_memory, {evaluator.metricName: \"areaUnderROC\"})))\n",
    "print(\"Accuracy DT (Memory Data): \" + str(evaluatorMulti.evaluate(predictions_dt_memory, {evaluatorMulti.metricName: \"accuracy\"})))\n",
    "print(\"Precision DT (Memory Data): \" + str(evaluatorMulti.evaluate(predictions_dt_memory, {evaluatorMulti.metricName: \"weightedPrecision\"})))\n",
    "print(\"Recall DT (Memory Data) \" + str(evaluatorMulti.evaluate(predictions_dt_memory, {evaluatorMulti.metricName: \"weightedRecall\"})))\n",
    "print(\"F1 DT (Memory Data) \" + str(evaluatorMulti.evaluate(predictions_dt_memory, {evaluatorMulti.metricName: \"f1\"})))\n",
    "print(\"---------------------------------------------------------------------------------------------------------\")\n",
    "print(\"Area Under GBT (Memory Data): \" + str(evaluator.evaluate(predictions_gbt_memory, {evaluator.metricName: \"areaUnderROC\"})))\n",
    "print(\"Accuracy GBT (Memory Data): \" + str(evaluatorMulti.evaluate(predictions_gbt_memory, {evaluatorMulti.metricName: \"accuracy\"})))\n",
    "print(\"Precision GBT (Memory Data): \" + str(evaluatorMulti.evaluate(predictions_gbt_memory, {evaluatorMulti.metricName: \"weightedPrecision\"})))\n",
    "print(\"Recall GBT (Memory Data) \" + str(evaluatorMulti.evaluate(predictions_gbt_memory, {evaluatorMulti.metricName: \"weightedRecall\"})))\n",
    "print(\"F1 GBT (Memory Data) \" + str(evaluatorMulti.evaluate(predictions_gbt_memory, {evaluatorMulti.metricName: \"f1\"})))"
   ]
  },
  {
   "cell_type": "markdown",
   "metadata": {},
   "source": [
    "<span style = \"color: green\">\n",
    "F1 Score is the most appropriate for measuring the model performance because of two reasons:\n",
    "\n",
    "1. Although we are using resampled data which contains number of non-attacks double of number of attacks so clealry seen that uneven class distribution is present. So these case we should F1 score instead of accuracy to check the model performance.\n",
    "\n",
    "2. Both precision and recall are important for this analysis, because precision will be help full to make sure that is a person is not an attacker then he/she should not be considered as attacked because the he/she have to go to jail and recall will help to make sure that any attacker should not be mis-classified as non attack because to not want to lose true attacker, Therefore both precision and recall are equally important for the perfomace measure of our model therefore we want some balance between both recall and precision so we choose F1 performance measure because F1 creates balance between precision and recall, and this is what we need."
   ]
  },
  {
   "cell_type": "markdown",
   "metadata": {},
   "source": [
    "Displaying the top-5 most important features in each model. And finding which pipeline model is better, and whether the feature “ts” should be included in the model. And visualising the ROC curve for the better model I select for each use case."
   ]
  },
  {
   "cell_type": "markdown",
   "metadata": {},
   "source": [
    "<span style = \"color: green\">\n",
    "Top 5 features for process data models are:\n",
    "    \n",
    "1. **Status**: Percentage of attacks different for each status, also, NC status does not have any attack. These things help in classification of attacker and non-attacker. Also *Status*  helps in increqasing the precision and F1 score.\n",
    "  \n",
    "2. **State**: For each *State*, percentage of attacks differ, since if states are D or Z then total attack percentage is much higher as compared to other states. Therefore activity *State* will be helpful in doing classsification.\n",
    "    \n",
    "3. **CPU**: In above sactter plot we have clearly seen that as the *CPU time* increase then the percentage of attacks also increases. Also gives better performance measure of our model if we include it.\n",
    "\n",
    "4. **CPUNR**: It help in improving performace metrix. CPUNR is Current processor which is the identification of the CPU the main thread of the process is running on or has recently been running on, this thing make it an important identifier of attacker or non-attacker. \n",
    "        \n",
    "5. **CMD**: CMD is the name of the process and it is important becuase we have seen many CMD have 100% attack percentage that means chances of attack are very high is those CMD or processes are used.\n",
    "\n",
    "6. **TSLPI**: It shows number of Number of threads in state 'interruptible sleeping'(S). And we find out that closely, general trend is percentage of attacks are higher as the number of TSLPI increases."
   ]
  },
  {
   "cell_type": "markdown",
   "metadata": {},
   "source": [
    "<span style = \"color: green\">\n",
    "Top 5 features for memory data models are:\n",
    "\n",
    "1. **CMD**: Same reason as above given for CMD.\n",
    "    \n",
    "2. **MINFLT**: If the number of *MINFLT* is higher than 0.5 then for sure it is not an attack , I saw in during data exploratiin and visvalisation step also *MINFLT* increase accuracy, precision, recall and F1 score of the model.\n",
    "    \n",
    "3. **MAJFLT**: According the scatter plot durig data exploratin, it looks like for few values of *MAJFLT* the percentage of attack are less as compared to other therefore this feature can be important. Also it increases accuracy, recall and F1 for the memory models.\n",
    "  \n",
    "4. **RSIZE**: If *RSIZE* is extremely high then it is definitely an attack this thing helps models to classify attack. Also *RSIZE* increase accuracy, precision, recall and F1 score of the model.\n",
    "    \n",
    "5. **VSTEXT**: If the virtual memory size used by the shared text of any activity are very large than chances that it is an attack are siginificantly higher. Also, helps in increasing the recall for the model."
   ]
  },
  {
   "cell_type": "markdown",
   "metadata": {},
   "source": [
    "<span style = \"color: green\">\n",
    "\n",
    "**ts:**\n",
    "    \n",
    "**ts** should not be included in the models because **ts** is the timestamp which is always generated by date and time of the system. And date and time will always be different every time any attacker will attack so it will not help us in identifying us the attacker or non attacker."
   ]
  },
  {
   "cell_type": "code",
   "execution_count": 43,
   "metadata": {
    "scrolled": true
   },
   "outputs": [
    {
     "data": {
      "image/png": "[encoded data removed]",
      "text/plain": [
       "<Figure size 432x288 with 1 Axes>"
      ]
     },
     "metadata": {
      "needs_background": "light"
     },
     "output_type": "display_data"
    }
   ],
   "source": [
    "selected_predictions = predictions_gbt_process.select([\"probability\", \"attack\"])\n",
    "selected_predictions_collect = selected_predictions.collect()\n",
    "prediction_list = [(float(value[0][0]), 1.0 - float(value[1])) for value in selected_predictions_collect]\n",
    "\n",
    "SandL = sc.parallelize(prediction_list)\n",
    "\n",
    "result_metrix = bcm(SandL)\n",
    "\n",
    "false_PR = dict()\n",
    "true_PR = dict()\n",
    "AUC = dict()\n",
    "\n",
    "test = [i[1] for i in prediction_list]\n",
    "result = [i[0] for i in prediction_list]\n",
    "\n",
    "false_PR, true_PR, _ = roc_curve(test, result)\n",
    "AUC = auc(false_PR, true_PR)\n",
    "\n",
    "%matplotlib inline\n",
    "plt.figure()\n",
    "plt.plot(false_PR, true_PR, label = \"ROC CURVE\" % AUC)\n",
    "plt.plot([0,1], [0,1], 'p--')\n",
    "plt.xlabel('False positive rate')\n",
    "plt.ylabel('True positive rate')\n",
    "plt.title(\"predictions_gbt_process\")\n",
    "plt.show()"
   ]
  },
  {
   "cell_type": "code",
   "execution_count": 44,
   "metadata": {},
   "outputs": [
    {
     "data": {
      "image/png": "[encoded data removed]",
      "text/plain": [
       "<Figure size 432x288 with 1 Axes>"
      ]
     },
     "metadata": {
      "needs_background": "light"
     },
     "output_type": "display_data"
    }
   ],
   "source": [
    "selected_predictions = predictions_gbt_memory.select([\"probability\", \"attack\"])\n",
    "selected_predictions_collect = selected_predictions.collect()\n",
    "prediction_list = [(float(value[0][0]), 1.0 - float(value[1])) for value in selected_predictions_collect]\n",
    "\n",
    "SandL = sc.parallelize(prediction_list)\n",
    "\n",
    "result_metrix = bcm(SandL)\n",
    "\n",
    "false_PR = dict()\n",
    "true_PR = dict()\n",
    "AUC = dict()\n",
    "\n",
    "test = [i[1] for i in prediction_list]\n",
    "result = [i[0] for i in prediction_list]\n",
    "\n",
    "false_PR, true_PR, _ = roc_curve(test, result)\n",
    "AUC = auc(false_PR, true_PR)\n",
    "\n",
    "%matplotlib inline\n",
    "plt.figure()\n",
    "plt.plot(false_PR, true_PR, label = \"ROC CURVE\" % AUC)\n",
    "plt.plot([0,1], [0,1], 'p--')\n",
    "plt.xlabel('False positive rate')\n",
    "plt.ylabel('True positive rate')\n",
    "plt.title(\"predictions_gbt_memory\")\n",
    "plt.show()"
   ]
  },
  {
   "cell_type": "markdown",
   "metadata": {},
   "source": [
    "According to the ROC curve, accuracy, recall and precision --> GBT model looks more promising."
   ]
  },
  {
   "cell_type": "markdown",
   "metadata": {},
   "source": [
    "Using the pipeline model selected in the previous step, re-train the pipeline model using a bigger set of rebalanced training data, with attack events and non-attack events being 1:2 ratio, while using all attack events data from the full data for both use cases. Then persist the better models for each use case.\n",
    "- The models will be deployed in Part B of this project."
   ]
  },
  {
   "cell_type": "markdown",
   "metadata": {},
   "source": [
    "#### For Process Data:"
   ]
  },
  {
   "cell_type": "code",
   "execution_count": 45,
   "metadata": {},
   "outputs": [],
   "source": [
    "count_attack_process = linux_process_cleaned.groupBy(\"attack\").count().orderBy(\"attack\")\n",
    "\n",
    "total_non_attack_process = count_attack_process.where(col(\"attack\") == 0).collect()[0][1]\n",
    "\n",
    "total_attack_process = count_attack_process.where(col(\"attack\") == 1).collect()[0][1]\n",
    "\n",
    "ration_attack_process = (((total_attack_process)*0.2)*2)/total_non_attack_process\n",
    "\n",
    "sampled_process_big = linux_process_cleaned.sampleBy(\"attack\", fractions={0: ration_attack_process, 1: 0.2}, seed=0)\n",
    "\n",
    "sampled_process_big_cached = sampled_process_big.cache()"
   ]
  },
  {
   "cell_type": "code",
   "execution_count": 49,
   "metadata": {},
   "outputs": [],
   "source": [
    "categoryInputCols_process = ['State', 'Status', 'CMD']\n",
    "numericInputCols_process = ['CPU', 'TSLPI', 'CPUNR']\n",
    "numericOutputCol_process = 'attack'\n",
    "\n",
    "allNumericCols_process = numericInputCols_process + [numericOutputCol_process]\n",
    "\n",
    "outputCols_index = [f'{x}_index' for x in categoryInputCols_process]\n",
    "inputIndexer = StringIndexer(inputCols=categoryInputCols_process, outputCols=outputCols_index)\n",
    "\n",
    "inputCols_OHE = outputCols_index\n",
    "outputCols_OHE = [f'{x}_vec' for x in categoryInputCols_process]\n",
    "encoder = OneHotEncoder(inputCols=inputCols_OHE,outputCols=outputCols_OHE)\n",
    "\n",
    "assemblerInputs = outputCols_OHE + numericInputCols_process\n",
    "assembler = VectorAssembler(inputCols = assemblerInputs, outputCol=\"features\")\n",
    "\n",
    "gbt_process = GBTClassifier(featuresCol = 'features', labelCol = 'attack')\n",
    "\n",
    "stage_1 = inputIndexer\n",
    "stage_2 = encoder\n",
    "stage_3 = assembler\n",
    "stage_gbt = gbt_process\n",
    "\n",
    "stages_gbt_process = [stage_1,stage_2,stage_3,stage_gbt]\n",
    "\n",
    "pipeline_gbt_process = Pipeline(stages = stages_gbt_process)\n",
    "pipelineModel_gbt_process = pipeline_gbt_process.fit(sampled_process_big_cached)"
   ]
  },
  {
   "cell_type": "code",
   "execution_count": 54,
   "metadata": {
    "scrolled": true
   },
   "outputs": [],
   "source": [
    "pipelineModel_gbt_process.save('attack_process_prediction_model')"
   ]
  },
  {
   "cell_type": "markdown",
   "metadata": {},
   "source": [
    "#### For memory data:"
   ]
  },
  {
   "cell_type": "code",
   "execution_count": 55,
   "metadata": {},
   "outputs": [],
   "source": [
    "count_attack_process = linux_memory_cleaned.groupBy(\"attack\").count().orderBy(\"attack\")\n",
    "\n",
    "total_non_attack_process = count_attack_process.where(col(\"attack\") == 0).collect()[0][1]\n",
    "\n",
    "total_attack_process = count_attack_process.where(col(\"attack\") == 1).collect()[0][1]\n",
    "\n",
    "ration_attack_process = (((total_attack_process)*0.2)*2)/total_non_attack_process\n",
    "\n",
    "sampled_process_big = linux_memory_cleaned.sampleBy(\"attack\", fractions={0: ration_attack_process, 1: 0.2}, seed=0)\n",
    "\n",
    "sampled_memory_big_cached = sampled_process_big.cache()"
   ]
  },
  {
   "cell_type": "code",
   "execution_count": 56,
   "metadata": {},
   "outputs": [],
   "source": [
    "categoryInputCols_memory = ['CMD']\n",
    "numericInputCols_memory = ['VSTEXT', 'RSIZE', 'MINFLT', 'MAJFLT']\n",
    "numericOutputCol_memory = 'attack'\n",
    "\n",
    "allNumericCols_memory = numericInputCols_memory + [numericOutputCol_memory]"
   ]
  },
  {
   "cell_type": "code",
   "execution_count": 57,
   "metadata": {},
   "outputs": [],
   "source": [
    "outputCols_index = [f'{x}_index' for x in categoryInputCols_memory]\n",
    "inputIndexer = StringIndexer(inputCols=categoryInputCols_memory, outputCols=outputCols_index).setHandleInvalid(\"skip\")\n",
    "\n",
    "inputCols_OHE = outputCols_index\n",
    "outputCols_OHE = [f'{x}_vec' for x in categoryInputCols_memory]\n",
    "encoder = OneHotEncoder(inputCols=inputCols_OHE,outputCols=outputCols_OHE)\n",
    "\n",
    "assemblerInputs = outputCols_OHE + numericInputCols_memory\n",
    "assembler = VectorAssembler(inputCols = assemblerInputs, outputCol=\"features\")\n",
    "\n",
    "gbt_memory = GBTClassifier(featuresCol = 'features', labelCol = 'attack')\n",
    "\n",
    "stage_1 = inputIndexer\n",
    "stage_2 = encoder\n",
    "stage_3 = assembler\n",
    "stage_gbt = gbt_memory\n",
    "\n",
    "stages_gbt_memory = [stage_1, stage_2, stage_3, stage_gbt]\n",
    "\n",
    "pipelineModel_gbt_memory = pipeline_gbt_memory.fit(sampled_memory_big_cached)"
   ]
  },
  {
   "cell_type": "code",
   "execution_count": 59,
   "metadata": {},
   "outputs": [],
   "source": [
    "pipelineModel_gbt_memory.save('attack_memory_prediction_model')"
   ]
  },
  {
   "cell_type": "markdown",
   "metadata": {},
   "source": [
    "![](jobs.png)"
   ]
  },
  {
   "cell_type": "markdown",
   "metadata": {},
   "source": [
    "#### Since now we have highly accurate models trained on the static data, next step to apply this pipeline Machine Learning Model on real time streaming data to find out attacks and attackers in realtime."
   ]
  },
  {
   "cell_type": "markdown",
   "metadata": {},
   "source": [
    "## PART-B\n",
    "\n",
    "In this part B, I am creating creating a proof-of-concept streaming application to demonstrate the integration of machine learning model, Kafka and Spark streaming and create real time visualisation for monitoring purpose.\n",
    "\n",
    "Here I am creating proof-of-concept application for monitoring and detecting the attack in process and memory event data. To achieve this, I am simulating the streaming data production using Kafka, then showing some basic counts after consuming the data, and finally build a streaming application that integrates the machine learning model I made in part-A of project that can predict the attack to monitor the situation.\n"
   ]
  },
  {
   "cell_type": "markdown",
   "metadata": {},
   "source": [
    "I do not have actual streaming data coiming to me through some api or something but I will try to find some way to create stream data through static data I have is Two files:\n",
    "- Streaming_Linux_process.csv\n",
    "- Streaming_Linux_memory.csv\n",
    "\n",
    "In the bove streaming data files, machine ID and sequence of data is also added for each\n",
    "memory activity and the process activity data, while the columns of “attack” and “type” are\n",
    "not included.\n",
    "\n",
    "You can download them from my [GitHub repository](https://github.com/RakeshNain/Cyber-Security-Application---Detecting-Linux-system-hacking-activities.git).\n",
    "\n",
    "The streaming data files are an adapted version of process and memory data from the\n",
    "Internet of Things dataset collected by Dr. Nour Moustafa, using IoT devices, Linux systems,\n",
    "Windows systems, and network devices. For more detailed information on the dataset,\n",
    "please refer to the Metadata file included in my GitHub repository or from the website\n",
    "below https://ieee-dataport.org/documents/toniot-datasets.\n"
   ]
  },
  {
   "cell_type": "markdown",
   "metadata": {},
   "source": [
    "Lets Start..."
   ]
  },
  {
   "cell_type": "markdown",
   "metadata": {},
   "source": [
    "1st need to implement two Apache Kafka producers (one for process and one for memory) to simulate the real-time streaming of the data. For that I have created other two jupyter files one for process data real-time streaming data production and other one for memory data real-time streaming data production. They are in my [GitHub repository](https://github.com/RakeshNain/Cyber-Security-Application---Detecting-Linux-system-hacking-activities.git),their names are \"memory peoducer\" and \"process producer\" and I am going to run them paralalley"
   ]
  },
  {
   "cell_type": "markdown",
   "metadata": {},
   "source": [
    "2nd, we will implement multiple Apache Kafka consumers to consume the data coming from the above producer.\n",
    "For both the producers, I have created their respective consumers which will consumes the produced data using kafka consumer, and visualise the record counts in real time. And use charts/graphs to visualise.\n",
    "Download both the consumers from my [Github repository](https://github.com/RakeshNain/Cyber-Security-Application---Detecting-Linux-system-hacking-activities.git) and run them. Thier names are \"memory consumer\" AND \"process consumer\"."
   ]
  },
  {
   "cell_type": "markdown",
   "metadata": {},
   "source": [
    "#### Now, finally creating Streaming application using Spark Structured Streaming\n",
    "I am implementing Spark Structured Streaming to consume the data from producers and perform predictive analytics in real time using Spark Structured Streaming together with Spark SQL and ML. I have already pre-trained models from Part-A of this project one for predicting attack in process data, another for predicting attack in memory data."
   ]
  },
  {
   "cell_type": "markdown",
   "metadata": {},
   "source": [
    "Few required imports."
   ]
  },
  {
   "cell_type": "code",
   "execution_count": null,
   "metadata": {},
   "outputs": [],
   "source": [
    "import os\n",
    "os.environ['PYSPARK_SUBMIT_ARGS'] = '--packages org.apache.spark:spark-streaming-kafka-0-10_2.12:3.0.0,org.apache.spark:spark-sql-kafka-0-10_2.12:3.0.0 pyspark-shell'\n",
    "\n",
    "from pyspark.sql import SparkSession\n",
    "from pyspark.sql.functions import explode\n",
    "from pyspark.sql.functions import split\n",
    "from pyspark.sql.types import *\n",
    "import datetime as dt\n",
    "from pyspark import SparkConf\n",
    "from pyspark.sql.functions import *\n",
    "from pyspark.ml import PipelineModel\n"
   ]
  },
  {
   "cell_type": "markdown",
   "metadata": {},
   "source": [
    "Lets create SparkSession using a SparkConf object, which would use UTC as the timezone"
   ]
  },
  {
   "cell_type": "code",
   "execution_count": null,
   "metadata": {},
   "outputs": [],
   "source": [
    "# local[2]: run Spark in local mode with 2 working processors as logical cores on your machine\n",
    "master = \"local[2]\"\n",
    "\n",
    "# The `appName` field is a name to be shown on the Spark cluster UI page\n",
    "app_name = \"Assignment-2B-Task3\"\n",
    "\n",
    "# Setup configuration parameters for Spark\n",
    "spark_conf = SparkConf().setMaster(master).setAppName(app_name)\n",
    "\n",
    "spark = SparkSession \\\n",
    "    .builder \\\n",
    "    .config(conf=spark_conf) \\\n",
    "    .config(\"spark.sql.session.timeZone\", \"UTC\") \\\n",
    "    .getOrCreate()"
   ]
  },
  {
   "cell_type": "markdown",
   "metadata": {},
   "source": [
    "From the Kafka producers, ingesting the streaming data into Spark Streaming for both process and memory activities"
   ]
  },
  {
   "cell_type": "code",
   "execution_count": null,
   "metadata": {},
   "outputs": [],
   "source": [
    "# ingest the streaming data into Spark Streaming for memory\n",
    "topic1 = \"Streaming_Linux_memory5\"\n",
    "linux_memory = spark \\\n",
    "            .readStream \\\n",
    "            .format(\"kafka\") \\\n",
    "            .option(\"kafka.bootstrap.servers\", \"127.0.0.1:9092\") \\\n",
    "            .option(\"subscribe\", topic1) \\\n",
    "            .load()"
   ]
  },
  {
   "cell_type": "code",
   "execution_count": null,
   "metadata": {},
   "outputs": [],
   "source": [
    "# ingest the streaming data into Spark Streaming for process\n",
    "topic2 = \"Streaming_Linux_process7\"\n",
    "linux_process = spark \\\n",
    "            .readStream \\\n",
    "            .format(\"kafka\") \\\n",
    "            .option(\"kafka.bootstrap.servers\", \"127.0.0.1:9092\") \\\n",
    "            .option(\"subscribe\", topic2) \\\n",
    "            .load()"
   ]
  },
  {
   "cell_type": "code",
   "execution_count": null,
   "metadata": {},
   "outputs": [],
   "source": [
    "#showing data from memory producer\n",
    "query = linux_memory \\\n",
    "    .writeStream \\\n",
    "    .outputMode(\"append\") \\\n",
    "    .format(\"memory\") \\\n",
    "    .queryName(\"linux_memory_tab\") \\\n",
    "    .trigger(processingTime='5 seconds') \\\n",
    "    .start()"
   ]
  },
  {
   "cell_type": "code",
   "execution_count": 8,
   "metadata": {},
   "outputs": [],
   "source": [
    "query.stop()"
   ]
  },
  {
   "cell_type": "code",
   "execution_count": 9,
   "metadata": {},
   "outputs": [],
   "source": [
    "#Change the output sink to \"memory\" and write output to the memory sink\n",
    "query = linux_process \\\n",
    "    .writeStream \\\n",
    "    .outputMode(\"append\") \\\n",
    "    .format(\"memory\") \\\n",
    "    .queryName(\"linux_process_tab\") \\\n",
    "    .trigger(processingTime='5 seconds') \\\n",
    "    .start()"
   ]
  },
  {
   "cell_type": "code",
   "execution_count": 11,
   "metadata": {},
   "outputs": [
    {
     "name": "stdout",
     "output_type": "stream",
     "text": [
      "+----+--------------------+--------------------+---------+------+--------------------+-------------+\n",
      "| key|               value|               topic|partition|offset|           timestamp|timestampType|\n",
      "+----+--------------------+--------------------+---------+------+--------------------+-------------+\n",
      "|null|[5B 7B 22 73 65 7...|Streaming_Linux_p...|        0|    54|2020-11-01 11:52:...|            0|\n",
      "|null|[5B 7B 22 73 65 7...|Streaming_Linux_p...|        0|    55|2020-11-01 11:52:...|            0|\n",
      "|null|[5B 7B 22 73 65 7...|Streaming_Linux_p...|        0|    56|2020-11-01 11:52:...|            0|\n",
      "+----+--------------------+--------------------+---------+------+--------------------+-------------+\n",
      "\n"
     ]
    }
   ],
   "source": [
    "# wait few seconds before running it\n",
    "spark.sql(\"select * from linux_process_tab\").show()"
   ]
  },
  {
   "cell_type": "code",
   "execution_count": 12,
   "metadata": {},
   "outputs": [],
   "source": [
    "query.stop()"
   ]
  },
  {
   "cell_type": "code",
   "execution_count": 13,
   "metadata": {},
   "outputs": [],
   "source": [
    "# uncomment to see output on console\n",
    "# query = linux_process \\\n",
    "#     .writeStream \\\n",
    "#     .outputMode(\"append\") \\\n",
    "#     .format(\"console\") \\\n",
    "#     .trigger(processingTime='5 seconds') \\\n",
    "#     .start()"
   ]
  },
  {
   "cell_type": "code",
   "execution_count": 14,
   "metadata": {},
   "outputs": [],
   "source": [
    "# query.stop()"
   ]
  },
  {
   "cell_type": "markdown",
   "metadata": {},
   "source": [
    "Streaming data format transformed into the proper formats following the metadata file schema for both process and memory, similar to Part-A of project.\n",
    "What is done:\n",
    "- The numeric values with extra spaces or “K” / “M” / “G” are properly transformed into their correct values\n",
    "- The NICE value are also restored based on the PRI values using their relationship\n",
    "\n",
    "    - Note - There was mapping between PRI (priority) and NICE, as long as the process is not yet finished during the last interval. For example,\n",
    "        - PRI 100 maps to NICE -20\n",
    "        - PRI 101 maps toNICE -19\n",
    "        - …\n",
    "        - PRI 139 maps to NICE 19\n",
    "    - Amd - If the process is finished, PRI and NICE would both be 0."
   ]
  },
  {
   "cell_type": "code",
   "execution_count": 15,
   "metadata": {},
   "outputs": [],
   "source": [
    "#transforming memory data into proper format\n",
    "\n",
    "linux_memory = linux_memory.selectExpr(\"CAST(key AS STRING)\", \"CAST(value AS STRING)\")\n",
    "\n",
    "schema = ArrayType(StructType([    \n",
    "    StructField('sequence', IntegerType(), True), \n",
    "    StructField('machine', IntegerType(), True),\n",
    "    StructField('PID', IntegerType(), True), \n",
    "    StructField('MINFLT', IntegerType(), True),\n",
    "    StructField('MAJFLT', IntegerType(), True), \n",
    "    StructField('VSTEXT', IntegerType(), True),\n",
    "    StructField('VSIZE', IntegerType(), True), \n",
    "    StructField('RSIZE', IntegerType(), True),\n",
    "    StructField('VGROW', IntegerType(), True),\n",
    "    StructField('RGROW', IntegerType(), True), \n",
    "    StructField('MEM', IntegerType(), True),\n",
    "    StructField('CMD', StringType(), True),\n",
    "    StructField('ts', TimestampType(), True)            \n",
    "]))\n",
    "\n",
    "linux_memory = linux_memory.select(from_json(col(\"value\").cast(\"string\"), schema).alias('parsed_value'))\n",
    "\n",
    "linux_memory = linux_memory.select(explode(col(\"parsed_value\")).alias('unnested_value')) \n",
    "\n",
    "memory_df = linux_memory.select(\n",
    "                    col(\"unnested_value.sequence\").alias(\"sequence\"),\n",
    "                    col(\"unnested_value.machine\").alias(\"machine\"),\n",
    "                    col(\"unnested_value.PID\").alias(\"PID\"),\n",
    "                    col(\"unnested_value.MINFLT\").alias(\"MINFLT\"),\n",
    "                    col(\"unnested_value.MAJFLT\").alias(\"MAJFLT\"),\n",
    "                    col(\"unnested_value.VSTEXT\").alias(\"VSTEXT\"),\n",
    "                    col(\"unnested_value.VSIZE\").alias(\"VSIZE\"),\n",
    "                    col(\"unnested_value.RSIZE\").alias(\"RSIZE\"),\n",
    "                    col(\"unnested_value.VGROW\").alias(\"VGROW\"),\n",
    "                    col(\"unnested_value.RGROW\").alias(\"RGROW\"),\n",
    "                    col(\"unnested_value.MEM\").alias(\"MEM\"),\n",
    "                    col(\"unnested_value.CMD\").alias(\"CMD\"),\n",
    "                    col(\"unnested_value.ts\").alias(\"ts\")\n",
    "                )"
   ]
  },
  {
   "cell_type": "code",
   "execution_count": 16,
   "metadata": {
    "scrolled": true
   },
   "outputs": [],
   "source": [
    "#checking reformated memory data\n",
    "query = memory_df \\\n",
    "    .writeStream \\\n",
    "    .outputMode(\"append\") \\\n",
    "    .format(\"memory\") \\\n",
    "    .queryName(\"memory_df_tab\") \\\n",
    "    .trigger(processingTime='5 seconds') \\\n",
    "    .start()"
   ]
  },
  {
   "cell_type": "code",
   "execution_count": 18,
   "metadata": {},
   "outputs": [
    {
     "name": "stdout",
     "output_type": "stream",
     "text": [
      "+--------+-------+----+------+------+------+-----+-----+-----+-----+---+--------------+-------------------+\n",
      "|sequence|machine| PID|MINFLT|MAJFLT|VSTEXT|VSIZE|RSIZE|VGROW|RGROW|MEM|           CMD|                 ts|\n",
      "+--------+-------+----+------+------+------+-----+-----+-----+-----+---+--------------+-------------------+\n",
      "|    1982|      4|2530|     0|     1|    26|  337| 3148|    0|    0|  0|    gvfsd-fuse|2020-11-01 00:52:36|\n",
      "|    1983|      4|2326|     0|     0|   245|40296| 2708|    0|    0|  0|          init|2020-11-01 00:52:36|\n",
      "|    1984|      4|4327|  2500|     0|   148|18172| 2696|    0|    0|  0|          atop|2020-11-01 00:52:36|\n",
      "|    1985|      4|4324|  2508|     0|   148|18172| 2676|    0|    4|  0|          atop|2020-11-01 00:52:36|\n",
      "|    1986|      4|4325|  2500|     0|   148|18176| 2672|    0|    0|  0|          atop|2020-11-01 00:52:36|\n",
      "|    1987|      4|4326|  2509|     0|   148|18172| 2664|    0|    0|  0|          atop|2020-11-01 00:52:36|\n",
      "|    1988|      4|2420|     1|     0|   415|40196| 2352|    0|    0|  0|   dbus-daemon|2020-11-01 00:52:36|\n",
      "|    1989|      4|2491|     1|     0|   415|39392| 2060|    0|    0|  0|   dbus-daemon|2020-11-01 00:52:36|\n",
      "|    1990|      4|1423|     5|     0|    36|19296|  824|    0|    0|  0|    irqbalance|2020-11-01 00:52:36|\n",
      "|    1991|      4|2498|     0|     0|   121|22308|  664|    0|    0|  0|upstart-dbus-b|2020-11-01 00:52:36|\n",
      "|    1992|      4|2505|     0|     0|   121|22308|  664|    0|    0|  0|upstart-dbus-b|2020-11-01 00:52:36|\n",
      "|    1993|      4|4253|     0|     0|     0|    0|    0|    0|    0|  0|kworker/u256:0|2020-11-01 00:52:36|\n",
      "|    1994|      4|4605|    78|     0|     0|    0|    0|    0|    0|  0|      <compiz>|2020-11-01 00:52:36|\n",
      "|    1995|      4|4584|     0|     0|     0|    0|    0|    0|    0|  0|    <dhclient>|2020-11-01 00:52:36|\n",
      "|    1996|      4|1496|     0|     0|  2219|  346|78972|    0|    0|  0|          Xorg|2020-11-01 00:52:36|\n",
      "|    1997|      4|2777|   126|     0|    10|    1|78444|   40|    0|  0|        compiz|2020-11-01 00:52:36|\n",
      "|    1998|      4|1542|     0|     0| 10415|  545|52432|    0|    0|  0|        mysqld|2020-11-01 00:52:36|\n",
      "|    1999|      4|2801|     8|     0|  1350|    1|46668|    0|    0|  0|      nautilus|2020-11-01 00:52:36|\n",
      "|    2000|      4|4185|     0|     0|  2132|    2|28312|    0|    0|  0|      ostinato|2020-11-01 00:52:36|\n",
      "|    2001|      4|2536|    21|     0|   589|  633|26612|  132|  260|  0|   hud-service|2020-11-01 00:52:36|\n",
      "+--------+-------+----+------+------+------+-----+-----+-----+-----+---+--------------+-------------------+\n",
      "only showing top 20 rows\n",
      "\n"
     ]
    }
   ],
   "source": [
    "# wait few seconds before running it\n",
    "spark.sql(\"select * from memory_df_tab\").show()"
   ]
  },
  {
   "cell_type": "code",
   "execution_count": 19,
   "metadata": {},
   "outputs": [],
   "source": [
    "query.stop()"
   ]
  },
  {
   "cell_type": "code",
   "execution_count": 20,
   "metadata": {},
   "outputs": [],
   "source": [
    "# uncomment to see output on console\n",
    "\n",
    "# query = memory_df \\\n",
    "#     .writeStream \\\n",
    "#     .outputMode(\"append\") \\\n",
    "#     .format(\"console\") \\\n",
    "#     .trigger(processingTime='5 seconds') \\\n",
    "#     .start()"
   ]
  },
  {
   "cell_type": "code",
   "execution_count": 21,
   "metadata": {},
   "outputs": [],
   "source": [
    "# query.stop()"
   ]
  },
  {
   "cell_type": "code",
   "execution_count": 22,
   "metadata": {},
   "outputs": [],
   "source": [
    "#transformin process data into proper format\n",
    "\n",
    "linux_process = linux_process.selectExpr(\"CAST(key AS STRING)\", \"CAST(value AS STRING)\")\n",
    "\n",
    "schema = ArrayType(StructType([    \n",
    "    StructField('sequence', IntegerType(), True), \n",
    "    StructField('machine', IntegerType(), True),\n",
    "    StructField('PID', IntegerType(), True), \n",
    "    StructField('TRUN', IntegerType(), True),\n",
    "    StructField('TSLPI', IntegerType(), True), \n",
    "    StructField('TSLPU', IntegerType(), True),\n",
    "    StructField('POLI', StringType(), True), \n",
    "    StructField('NICE', IntegerType(), True),\n",
    "    StructField('PRI', IntegerType(), True),\n",
    "    StructField('RTPR', IntegerType(), True), \n",
    "    StructField('CPUNR', IntegerType(), True),\n",
    "    StructField('Status', StringType(), True),\n",
    "    StructField('EXC', IntegerType(), True),\n",
    "    StructField('State', StringType(), True), \n",
    "    StructField('CPU', IntegerType(), True),\n",
    "    StructField('CMD', StringType(), True),\n",
    "    StructField('ts', TimestampType(), True)            \n",
    "]))\n",
    "\n",
    "linux_process = linux_process.select(from_json(col(\"value\").cast(\"string\"), schema).alias('parsed_value'))\n",
    "\n",
    "linux_process = linux_process.select(explode(col(\"parsed_value\")).alias('unnested_value'))\n",
    "\n",
    "process_df = linux_process.select(\n",
    "                    col(\"unnested_value.sequence\").alias(\"sequence\"),\n",
    "                    col(\"unnested_value.machine\").alias(\"machine\"),\n",
    "                    col(\"unnested_value.PID\").alias(\"PID\"),\n",
    "                    col(\"unnested_value.TRUN\").alias(\"TRUN\"),\n",
    "                    col(\"unnested_value.TSLPI\").alias(\"TSLPI\"),\n",
    "                    col(\"unnested_value.TSLPU\").alias(\"TSLPU\"),\n",
    "                    col(\"unnested_value.POLI\").alias(\"POLI\"),\n",
    "                    col(\"unnested_value.NICE\").alias(\"NICE\"),\n",
    "                    col(\"unnested_value.PRI\").alias(\"PRI\"),\n",
    "                    col(\"unnested_value.RTPR\").alias(\"RTPR\"),\n",
    "                    col(\"unnested_value.CPUNR\").alias(\"CPUNR\"),\n",
    "                    col(\"unnested_value.Status\").alias(\"Status\"),\n",
    "                    col(\"unnested_value.EXC\").alias(\"EXC\"),\n",
    "                    col(\"unnested_value.State\").alias(\"State\"),\n",
    "                    col(\"unnested_value.CPU\").alias(\"CPU\"),\n",
    "                    col(\"unnested_value.CMD\").alias(\"CMD\"),\n",
    "                    col(\"unnested_value.ts\").alias(\"ts\")\n",
    "                )"
   ]
  },
  {
   "cell_type": "code",
   "execution_count": 23,
   "metadata": {},
   "outputs": [],
   "source": [
    "#checking reformated process data\n",
    "query = process_df \\\n",
    "    .writeStream \\\n",
    "    .outputMode(\"append\") \\\n",
    "    .format(\"memory\") \\\n",
    "    .queryName(\"process_df_tab\") \\\n",
    "    .trigger(processingTime='5 seconds') \\\n",
    "    .start()"
   ]
  },
  {
   "cell_type": "code",
   "execution_count": 24,
   "metadata": {},
   "outputs": [
    {
     "name": "stdout",
     "output_type": "stream",
     "text": [
      "+--------+-------+----+----+-----+-----+----+----+---+----+-----+------+---+-----+---+--------------+-------------------+\n",
      "|sequence|machine| PID|TRUN|TSLPI|TSLPU|POLI|NICE|PRI|RTPR|CPUNR|Status|EXC|State|CPU|           CMD|                 ts|\n",
      "+--------+-------+----+----+-----+-----+----+----+---+----+-----+------+---+-----+---+--------------+-------------------+\n",
      "|    1977|      4|4374|   0|    1| 1977|norm|  20|100|   0|    0|     -|  0|    S|  0|          atop|2020-11-01 00:52:59|\n",
      "|    1978|      4|1442|   0|    1| 1978|norm|   0|120|   0|    2|     -|  0|    S|  0|          Xorg|2020-11-01 00:52:59|\n",
      "|    1979|      4|3790|   0|    3| 1979|norm|   0|120|   0|    0|     -|  0|    S|  0|      ostinato|2020-11-01 00:52:59|\n",
      "|    1980|      4|2797|   0|    5| 1980|norm|   0|120|   0|    2|     -|  0|    S|  0|      nautilus|2020-11-01 00:52:59|\n",
      "|    1981|      4|2547|   0|    3| 1981|norm|   0|120|   0|    2|     -|  0|    S|  0|unity-panel-se|2020-11-01 00:52:59|\n",
      "|    1982|      4|3155|   0|    4| 1982|norm|   0|120|   0|    2|     -|  0|    S|  0|gnome-terminal|2020-11-01 00:52:59|\n",
      "|    1983|      4|2788|   0|    5| 1983|norm|   0|120|   0|    3|     -|  0|    S|  0|evolution-cale|2020-11-01 00:52:59|\n",
      "|    1984|      4|2842|   0|    3| 1984|norm|   0|120|   0|    3|     -|  0|    S|  0|mission-contro|2020-11-01 00:52:59|\n",
      "|    1985|      4|3311|   0|    3| 1985|norm|   0|120|   0|    3|     -|  0|    S|  0|deja-dup-monit|2020-11-01 00:52:59|\n",
      "|    1986|      4|1371|   0|    1| 1986|norm|   0|120|   0|    3|     -|  0|    S|  0|    irqbalance|2020-11-01 00:52:59|\n",
      "|    1987|      4|3793|   1|   11| 1987|norm|   0|120|   0|    3|     -|  0|    S|  0|         drone|2020-11-01 00:52:59|\n",
      "|    1988|      4|6847|   0|    1| 1988|norm|   0|120|   0|    1|     -|  0|    S|  0|       tcpdump|2020-11-01 00:52:59|\n",
      "|    1989|      4|2774|   0|    9| 1989|norm|   0|120|   0|    0|     -|  0|    S|  0|        compiz|2020-11-01 00:52:59|\n",
      "|    1990|      4|2533|   0|    4| 1990|norm|   0|120|   0|    3|     -|  0|    S|  0|   hud-service|2020-11-01 00:52:59|\n",
      "|    1991|      4|4372|   0|    1| 1991|norm|  20|100|   0|    3|     -|  0|    S|  0|          atop|2020-11-01 00:52:59|\n",
      "|    1992|      4|3676|   0|    1| 1992|norm|  20|100|   0|    0|     -|  0|    S|  0|          atop|2020-11-01 00:52:59|\n",
      "|    1993|      4|3677|   0|    1| 1993|norm|  20|100|   0|    0|     -|  0|    S|  0|          atop|2020-11-01 00:52:59|\n",
      "|    1994|      4|3678|   0|    1| 1994|norm|  20|100|   0|    3|     -|  0|    S|  0|          atop|2020-11-01 00:52:59|\n",
      "|    1995|      4|4373|   0|    1| 1995|norm|  20|100|   0|    2|     -|  0|    S|  0|          atop|2020-11-01 00:52:59|\n",
      "|    1996|      4|4375|   0|    1| 1996|norm|  20|100|   0|    0|     -|  0|    S|  0|          atop|2020-11-01 00:52:59|\n",
      "+--------+-------+----+----+-----+-----+----+----+---+----+-----+------+---+-----+---+--------------+-------------------+\n",
      "only showing top 20 rows\n",
      "\n"
     ]
    }
   ],
   "source": [
    "# wait few seconds before running it\n",
    "spark.sql(\"select * from process_df_tab\").show()"
   ]
  },
  {
   "cell_type": "code",
   "execution_count": 25,
   "metadata": {},
   "outputs": [],
   "source": [
    "query.stop()"
   ]
  },
  {
   "cell_type": "code",
   "execution_count": 26,
   "metadata": {},
   "outputs": [],
   "source": [
    "# uncomment to see output on console\n",
    "\n",
    "# query = process_df \\\n",
    "#     .writeStream \\\n",
    "#     .outputMode(\"append\") \\\n",
    "#     .format(\"console\") \\\n",
    "#     .trigger(processingTime='5 seconds') \\\n",
    "#     .start()"
   ]
  },
  {
   "cell_type": "code",
   "execution_count": 27,
   "metadata": {},
   "outputs": [],
   "source": [
    "# query.stop()"
   ]
  },
  {
   "cell_type": "code",
   "execution_count": 28,
   "metadata": {},
   "outputs": [],
   "source": [
    "#renaming dataframes\n",
    "linux_memory_cleaned = memory_df\n",
    "linux_process_cleaned = process_df"
   ]
  },
  {
   "cell_type": "code",
   "execution_count": 29,
   "metadata": {},
   "outputs": [],
   "source": [
    "# uncomment to see output on console\n",
    "\n",
    "# query = linux_process_cleaned \\\n",
    "#     .writeStream \\\n",
    "#     .outputMode(\"append\") \\\n",
    "#     .format(\"console\") \\\n",
    "#     .trigger(processingTime='5 seconds') \\\n",
    "#     .start()"
   ]
  },
  {
   "cell_type": "code",
   "execution_count": 30,
   "metadata": {},
   "outputs": [],
   "source": [
    "# query.stop()"
   ]
  },
  {
   "cell_type": "code",
   "execution_count": 31,
   "metadata": {},
   "outputs": [],
   "source": [
    "# fixing the errors in NICE column\n",
    "def clean_nice(pri):\n",
    "    return int(pri)-120\n",
    "    \n",
    "clean_nice_udf = udf(clean_nice, IntegerType())\n",
    "linux_process_cleaned = linux_process_cleaned.withColumn('NICE', clean_nice_udf('PRI'))"
   ]
  },
  {
   "cell_type": "code",
   "execution_count": 32,
   "metadata": {},
   "outputs": [],
   "source": [
    "# fixing the errors in NICE column\n",
    "def fix_nice(cmd, nice):\n",
    "    if \"<\" in cmd:\n",
    "        return 0\n",
    "    else:\n",
    "        return int(nice)\n",
    "    \n",
    "fix_nice_udf = udf(fix_nice, IntegerType())\n",
    "linux_process_cleaned = linux_process_cleaned.withColumn('NICE', fix_nice_udf('CMD', 'NICE'))\n",
    "\n",
    "# fixing the errors in PRI column\n",
    "def fix_pri(cmd, pri):\n",
    "    if \"<\" in cmd:\n",
    "        return 0\n",
    "    else:\n",
    "        return int(pri)\n",
    "    \n",
    "fix_pri_udf = udf(fix_pri, IntegerType())\n",
    "linux_process_cleaned = linux_process_cleaned.withColumn('PRI', fix_pri_udf('CMD', 'PRI'))"
   ]
  },
  {
   "cell_type": "code",
   "execution_count": 33,
   "metadata": {},
   "outputs": [],
   "source": [
    "#checking fixed process data\n",
    "query = linux_process_cleaned \\\n",
    "    .writeStream \\\n",
    "    .outputMode(\"append\") \\\n",
    "    .format(\"memory\") \\\n",
    "    .queryName(\"linux_process_cleaned_tab\") \\\n",
    "    .trigger(processingTime='5 seconds') \\\n",
    "    .start()"
   ]
  },
  {
   "cell_type": "code",
   "execution_count": 35,
   "metadata": {
    "scrolled": false
   },
   "outputs": [
    {
     "name": "stdout",
     "output_type": "stream",
     "text": [
      "+--------+-------+----+----+-----+-----+----+----+---+----+-----+------+---+-----+---+--------------+-------------------+\n",
      "|sequence|machine| PID|TRUN|TSLPI|TSLPU|POLI|NICE|PRI|RTPR|CPUNR|Status|EXC|State|CPU|           CMD|                 ts|\n",
      "+--------+-------+----+----+-----+-----+----+----+---+----+-----+------+---+-----+---+--------------+-------------------+\n",
      "|    2203|      4|1442|   0|    1| 2203|norm|   0|120|   0|    0|     -|  0|    S|  0|          Xorg|2020-11-01 00:53:34|\n",
      "|    2204|      4|2797|   0|    5| 2204|norm|   0|120|   0|    0|     -|  0|    S|  0|      nautilus|2020-11-01 00:53:34|\n",
      "|    2205|      4|3155|   0|    4| 2205|norm|   0|120|   0|    0|     -|  0|    S|  0|gnome-terminal|2020-11-01 00:53:34|\n",
      "|    2206|      4|8486|   0|    1| 2206|norm|   0|120|   0|    2|     -|  0|    S|  0|kworker/u256:1|2020-11-01 00:53:34|\n",
      "|    2207|      4|2547|   0|    3| 2207|norm|   0|120|   0|    3|     -|  0|    S|  0|unity-panel-se|2020-11-01 00:53:34|\n",
      "|    2208|      4|2420|   0|    1| 2208|norm|   0|120|   0|    0|     -|  0|    S|  0|   dbus-daemon|2020-11-01 00:53:34|\n",
      "|    2209|      4|1851|   0|    2| 2209|norm|   0|120|   0|    2|     -|  0|    S|  0|      vmtoolsd|2020-11-01 00:53:34|\n",
      "|    2210|      4|1371|   0|    1| 2210|norm|   0|120|   0|    3|     -|  0|    S|  0|    irqbalance|2020-11-01 00:53:34|\n",
      "|    2211|      4|2498|   0|    1| 2211|norm|   0|120|   0|    0|     -|  0|    S|  0|upstart-dbus-b|2020-11-01 00:53:34|\n",
      "|    2212|      4|3793|   1|   11| 2212|norm|   0|120|   0|    3|     -|  0|    S|  0|         drone|2020-11-01 00:53:34|\n",
      "|    2213|      4|6847|   0|    1| 2213|norm|   0|120|   0|    1|     -|  0|    S|  0|       tcpdump|2020-11-01 00:53:34|\n",
      "|    2214|      4|2774|   0|    9| 2214|norm|   0|120|   0|    2|     -|  0|    S|  0|        compiz|2020-11-01 00:53:34|\n",
      "|    2215|      4|2533|   0|    4| 2215|norm|   0|120|   0|    2|     -|  0|    S|  0|   hud-service|2020-11-01 00:53:34|\n",
      "|    2216|      4|3676|   0|    1| 2216|norm| -20|100|   0|    0|     -|  0|    S|  0|          atop|2020-11-01 00:53:34|\n",
      "|    2217|      4|4372|   0|    1| 2217|norm| -20|100|   0|    0|     -|  0|    S|  0|          atop|2020-11-01 00:53:34|\n",
      "|    2218|      4|3677|   0|    1| 2218|norm| -20|100|   0|    0|     -|  0|    S|  0|          atop|2020-11-01 00:53:34|\n",
      "|    2219|      4|3678|   0|    1| 2219|norm| -20|100|   0|    3|     -|  0|    S|  0|          atop|2020-11-01 00:53:34|\n",
      "|    2220|      4|4373|   0|    1| 2220|norm| -20|100|   0|    2|     -|  0|    S|  0|          atop|2020-11-01 00:53:34|\n",
      "|    2221|      4|4375|   0|    1| 2221|norm| -20|100|   0|    0|     -|  0|    S|  0|          atop|2020-11-01 00:53:34|\n",
      "|    2222|      4|4374|   0|    1| 2222|norm| -20|100|   0|    0|     -|  0|    S|  0|          atop|2020-11-01 00:53:34|\n",
      "+--------+-------+----+----+-----+-----+----+----+---+----+-----+------+---+-----+---+--------------+-------------------+\n",
      "only showing top 20 rows\n",
      "\n"
     ]
    }
   ],
   "source": [
    "# wait few seconds before running it\n",
    "spark.sql(\"select * from linux_process_cleaned_tab\").show()"
   ]
  },
  {
   "cell_type": "code",
   "execution_count": 36,
   "metadata": {},
   "outputs": [],
   "source": [
    "query.stop()"
   ]
  },
  {
   "cell_type": "markdown",
   "metadata": {},
   "source": [
    "For process and memory, respectively, creating a new column “CMD_PID” concatenating “CMD” and “PID” columns, and a new column “event_time” as timestamp format based on the unix time in “ts” column.\n",
    "\n",
    "where, Allowing 20-second tolerance for possible data delay on “event_time” using watermarking."
   ]
  },
  {
   "cell_type": "code",
   "execution_count": 37,
   "metadata": {},
   "outputs": [],
   "source": [
    "# creating a new column “CMD_PID” concatenating “CMD” and “PID” columns\n",
    "def concat(cmd, pid):\n",
    "    return cmd+str(pid)\n",
    "    \n",
    "concat_udf = udf(concat, StringType())\n",
    "linux_process_cleaned = linux_process_cleaned.withColumn('CMD_PID', concat_udf('CMD', 'PID'))\n",
    "linux_memory_cleaned = linux_memory_cleaned.withColumn('CMD_PID', concat_udf('CMD', 'PID'))"
   ]
  },
  {
   "cell_type": "code",
   "execution_count": 38,
   "metadata": {},
   "outputs": [],
   "source": [
    "# creating new column 'event_time' using 'ts' column \n",
    "# and setting 20-second tolerance for possible data delay on “event_time” using watermarking\n",
    "\n",
    "linux_process_cleaned = linux_process_cleaned.withColumn('event_time', linux_process_cleaned.ts)\n",
    "linux_process_cleaned = linux_process_cleaned.withWatermark(\"event_time\", \"20 seconds\")\n",
    "\n",
    "linux_memory_cleaned = linux_memory_cleaned.withColumn('event_time', linux_memory_cleaned.ts)\n",
    "linux_memory_cleaned = linux_memory_cleaned.withWatermark(\"event_time\", \"20 seconds\")"
   ]
  },
  {
   "cell_type": "code",
   "execution_count": 39,
   "metadata": {},
   "outputs": [],
   "source": [
    "#checking new added columns in process data\n",
    "query = linux_process_cleaned \\\n",
    "    .writeStream \\\n",
    "    .outputMode(\"append\") \\\n",
    "    .format(\"memory\") \\\n",
    "    .queryName(\"linux_process_cleaned_tab\") \\\n",
    "    .trigger(processingTime='5 seconds') \\\n",
    "    .start()\n",
    "\n",
    "# uncomment for checking new added columns in memory data\n",
    "# query = linux_memory_cleaned \\\n",
    "#     .writeStream \\\n",
    "#     .outputMode(\"append\") \\\n",
    "#     .format(\"memory\") \\\n",
    "#     .queryName(\"linux_memory_cleaned_tab\") \\\n",
    "#     .trigger(processingTime='5 seconds') \\\n",
    "#     .start()"
   ]
  },
  {
   "cell_type": "code",
   "execution_count": 40,
   "metadata": {},
   "outputs": [
    {
     "name": "stdout",
     "output_type": "stream",
     "text": [
      "+--------+-------+----+----+-----+-----+----+----+---+----+-----+------+---+-----+---+--------------+-------------------+------------------+-------------------+\n",
      "|sequence|machine| PID|TRUN|TSLPI|TSLPU|POLI|NICE|PRI|RTPR|CPUNR|Status|EXC|State|CPU|           CMD|                 ts|           CMD_PID|         event_time|\n",
      "+--------+-------+----+----+-----+-----+----+----+---+----+-----+------+---+-----+---+--------------+-------------------+------------------+-------------------+\n",
      "|    2294|      4|1371|   0|    1| 2294|norm|   0|120|   0|    3|     -|  0|    S|  0|    irqbalance|2020-11-01 00:53:49|    irqbalance1371|2020-11-01 00:53:49|\n",
      "|    2295|      4|3793|   1|   11| 2295|norm|   0|120|   0|    3|     -|  0|    S|  0|         drone|2020-11-01 00:53:49|         drone3793|2020-11-01 00:53:49|\n",
      "|    2296|      4|6847|   0|    1| 2296|norm|   0|120|   0|    0|     -|  0|    S|  0|       tcpdump|2020-11-01 00:53:49|       tcpdump6847|2020-11-01 00:53:49|\n",
      "|    2297|      4|2774|   0|    9| 2297|norm|   0|120|   0|    3|     -|  0|    S|  0|        compiz|2020-11-01 00:53:49|        compiz2774|2020-11-01 00:53:49|\n",
      "|    2298|      4|2533|   0|    4| 2298|norm|   0|120|   0|    0|     -|  0|    S|  0|   hud-service|2020-11-01 00:53:49|   hud-service2533|2020-11-01 00:53:49|\n",
      "|    2299|      4|3676|   0|    1| 2299|norm| -20|100|   0|    0|     -|  0|    S|  0|          atop|2020-11-01 00:53:49|          atop3676|2020-11-01 00:53:49|\n",
      "|    2300|      4|3677|   0|    1| 2300|norm| -20|100|   0|    0|     -|  0|    S|  0|          atop|2020-11-01 00:53:49|          atop3677|2020-11-01 00:53:49|\n",
      "|    2301|      4|3678|   0|    1| 2301|norm| -20|100|   0|    3|     -|  0|    S|  0|          atop|2020-11-01 00:53:49|          atop3678|2020-11-01 00:53:49|\n",
      "|    2302|      4|3675|   1|    0| 2302|norm| -20|100|   0|    2|     -|  0|    R|  0|          atop|2020-11-01 00:53:49|          atop3675|2020-11-01 00:53:49|\n",
      "|    2303|      4|4373|   0|    1| 2303|norm| -20|100|   0|    2|     -|  0|    S|  0|          atop|2020-11-01 00:53:49|          atop4373|2020-11-01 00:53:49|\n",
      "|    2304|      4|4372|   0|    1| 2304|norm| -20|100|   0|    0|     -|  0|    S|  0|          atop|2020-11-01 00:53:49|          atop4372|2020-11-01 00:53:49|\n",
      "|    2305|      4|4375|   0|    1| 2305|norm| -20|100|   0|    0|     -|  0|    S|  0|          atop|2020-11-01 00:53:49|          atop4375|2020-11-01 00:53:49|\n",
      "|    2306|      4|4374|   0|    1| 2306|norm| -20|100|   0|    0|     -|  0|    S|  0|          atop|2020-11-01 00:53:49|          atop4374|2020-11-01 00:53:49|\n",
      "|    2307|      4|3790|   0|    3| 2307|norm|   0|120|   0|    3|     -|  0|    S|  0|      ostinato|2020-11-01 00:53:49|      ostinato3790|2020-11-01 00:53:49|\n",
      "|    2308|      4|1442|   0|    1| 2308|norm|   0|120|   0|    3|     -|  0|    S|  0|          Xorg|2020-11-01 00:53:49|          Xorg1442|2020-11-01 00:53:49|\n",
      "|    2309|      4|2797|   0|    5| 2309|norm|   0|120|   0|    3|     -|  0|    S|  0|      nautilus|2020-11-01 00:53:49|      nautilus2797|2020-11-01 00:53:49|\n",
      "|    2310|      4|1483|   0|   17| 2310|norm|   0|120|   0|    1|     -|  0|    S|  0|        mysqld|2020-11-01 00:53:49|        mysqld1483|2020-11-01 00:53:49|\n",
      "|    2311|      4|1851|   0|    2| 2311|norm|   0|120|   0|    2|     -|  0|    S|  0|      vmtoolsd|2020-11-01 00:53:49|      vmtoolsd1851|2020-11-01 00:53:49|\n",
      "|    2312|      4|8486|   0|    1| 2312|norm|   0|120|   0|    0|     -|  0|    S|  0|kworker/u256:1|2020-11-01 00:53:49|kworker/u256:18486|2020-11-01 00:53:49|\n",
      "|    2313|      4|2547|   0|    3| 2313|norm|   0|120|   0|    2|     -|  0|    S|  0|unity-panel-se|2020-11-01 00:53:49|unity-panel-se2547|2020-11-01 00:53:49|\n",
      "+--------+-------+----+----+-----+-----+----+----+---+----+-----+------+---+-----+---+--------------+-------------------+------------------+-------------------+\n",
      "only showing top 20 rows\n",
      "\n"
     ]
    }
   ],
   "source": [
    "# wait few seconds before running it\n",
    "spark.sql(\"select * from linux_process_cleaned_tab\").show()\n",
    "\n",
    "# uncomment for checking new added columns in memory data\n",
    "# spark.sql(\"select * from linux_memory_cleaned_tab\").show()"
   ]
  },
  {
   "cell_type": "code",
   "execution_count": 41,
   "metadata": {},
   "outputs": [],
   "source": [
    "query.stop()"
   ]
  },
  {
   "cell_type": "code",
   "execution_count": 42,
   "metadata": {},
   "outputs": [],
   "source": [
    "# uncomment to see output on console\n",
    "\n",
    "# query = linux_memory_cleaned \\\n",
    "#     .writeStream \\\n",
    "#     .outputMode(\"append\") \\\n",
    "#     .format(\"console\") \\\n",
    "#     .trigger(processingTime='5 seconds') \\\n",
    "#     .start()"
   ]
  },
  {
   "cell_type": "code",
   "execution_count": 43,
   "metadata": {},
   "outputs": [],
   "source": [
    "# query.stop()"
   ]
  },
  {
   "cell_type": "markdown",
   "metadata": {},
   "source": [
    "Persisting the transformed streaming data in parquet format for both process and memory."
   ]
  },
  {
   "cell_type": "code",
   "execution_count": 44,
   "metadata": {},
   "outputs": [],
   "source": [
    "# transformed streaming data in parquet format for process data\n",
    "parquet_process_query = linux_process_cleaned.writeStream.format(\"parquet\")\\\n",
    "        .outputMode(\"append\")\\\n",
    "        .option(\"path\", \"process\")\\\n",
    "        .option(\"checkpointLocation\", \"process_parquet_checkpoint\")\\\n",
    "        .start()"
   ]
  },
  {
   "cell_type": "code",
   "execution_count": 45,
   "metadata": {},
   "outputs": [],
   "source": [
    "#stopping above query\n",
    "parquet_process_query.stop()"
   ]
  },
  {
   "cell_type": "code",
   "execution_count": 46,
   "metadata": {},
   "outputs": [],
   "source": [
    "# transformed streaming data in parquet format for memory data\n",
    "parquet_memory_query = linux_memory_cleaned.writeStream.format(\"parquet\")\\\n",
    "        .outputMode(\"append\")\\\n",
    "        .option(\"path\", \"memory\")\\\n",
    "        .option(\"checkpointLocation\", \"memory_parquet_checkpoint\")\\\n",
    "        .start()"
   ]
  },
  {
   "cell_type": "code",
   "execution_count": 47,
   "metadata": {},
   "outputs": [],
   "source": [
    "#stopping above query\n",
    "parquet_memory_query.stop()"
   ]
  },
  {
   "cell_type": "markdown",
   "metadata": {},
   "source": [
    "Loading the machine learning models saved in Part-A of this project and use the models to predict whether\n",
    "each process or memory streaming record is an attack event, respectively."
   ]
  },
  {
   "cell_type": "code",
   "execution_count": 48,
   "metadata": {},
   "outputs": [],
   "source": [
    "## uncomment to unzip the models\n",
    "# import zipfile\n",
    "# with zipfile.ZipFile(\"memory_pipeline_model.zip\",\"r\") as zip_ref:\n",
    "#     zip_ref.extractall(\"memory_pipeline_model\")\n",
    "\n",
    "# loading the models\n",
    "process_model = PipelineModel.load('process_pipeline_model/process_pipeline_model')\n",
    "memory_model = PipelineModel.load('memory_pipeline_model/memory_pipeline_model')"
   ]
  },
  {
   "cell_type": "code",
   "execution_count": 49,
   "metadata": {},
   "outputs": [],
   "source": [
    "# doing prediction\n",
    "process_prediction = process_model.transform(linux_process_cleaned)\n",
    "memory_prediction = memory_model.transform(linux_memory_cleaned)"
   ]
  },
  {
   "cell_type": "code",
   "execution_count": 50,
   "metadata": {},
   "outputs": [],
   "source": [
    "# uncomment to see output on console\n",
    "\n",
    "# query = process_prediction \\\n",
    "#     .writeStream \\\n",
    "#     .outputMode(\"append\") \\\n",
    "#     .format(\"console\") \\\n",
    "#     .trigger(processingTime='5 seconds') \\\n",
    "#     .start()"
   ]
  },
  {
   "cell_type": "code",
   "execution_count": 51,
   "metadata": {},
   "outputs": [],
   "source": [
    "# query.stop()"
   ]
  },
  {
   "cell_type": "markdown",
   "metadata": {},
   "source": [
    "Using the prediction result, and monitor the data following the requirements below\n",
    "- a) If any program in one machine is predicted as an attack in EITHER process\n",
    "    or memory activity prediction, it could be a false alarm or a potential attack.\n",
    "    Keeping track of the approximate count of such events in every 2-min window\n",
    "    for each machine for process and memory, respectively, and writing the stream\n",
    "    into Spark Memory sink using complete mode\n",
    "    - My aggregated result include machine ID, the time window, and the counts\n",
    "    - Note that if there are more than one entries having the SAME “CMD_PID” in a 2-min window, then I am getting the approximate distinct count. For example, if two or more records of “atop” program with the exact same “CMD_PID” are predicted as an attack in the process between 2020-10-10 10:10:10 and 2020-10-10 10:11:09 , only counting this “atop” program attack once."
   ]
  },
  {
   "cell_type": "code",
   "execution_count": 52,
   "metadata": {},
   "outputs": [],
   "source": [
    "# for process data\n",
    "# groupby with machine and counting distinct (CMD+PID) for each group in the window of 2 minutes\n",
    "process_attacksCounts = process_prediction.filter(col(\"prediction\") == 1.0)\\\n",
    "    .groupBy(window(process_prediction.event_time, \"120 seconds\"), \"machine\")\\\n",
    "    .agg(approx_count_distinct(\"CMD_PID\").alias(\"total_attacks\"))\\\n",
    "    .select(\"window\", \"machine\", \"total_attacks\")"
   ]
  },
  {
   "cell_type": "code",
   "execution_count": 53,
   "metadata": {},
   "outputs": [],
   "source": [
    "#checking working of above code\n",
    "query = process_attacksCounts \\\n",
    "    .writeStream \\\n",
    "    .outputMode(\"append\") \\\n",
    "    .format(\"memory\") \\\n",
    "    .queryName(\"process_attacksCounts_tab\") \\\n",
    "    .trigger(processingTime='5 seconds') \\\n",
    "    .start()"
   ]
  },
  {
   "cell_type": "code",
   "execution_count": 58,
   "metadata": {},
   "outputs": [
    {
     "name": "stdout",
     "output_type": "stream",
     "text": [
      "+--------------------+-------+-------------+\n",
      "|              window|machine|total_attacks|\n",
      "+--------------------+-------+-------------+\n",
      "|[2020-11-01 00:54...|      6|          101|\n",
      "|[2020-11-01 00:54...|      7|           88|\n",
      "|[2020-11-01 00:54...|      8|           74|\n",
      "|[2020-11-01 00:54...|      5|          185|\n",
      "+--------------------+-------+-------------+\n",
      "\n"
     ]
    }
   ],
   "source": [
    "# wait few minutes before running it\n",
    "spark.sql(\"select * from process_attacksCounts_tab\").show()"
   ]
  },
  {
   "cell_type": "code",
   "execution_count": 59,
   "metadata": {},
   "outputs": [],
   "source": [
    "query.stop()"
   ]
  },
  {
   "cell_type": "code",
   "execution_count": 60,
   "metadata": {},
   "outputs": [],
   "source": [
    "# uncomment to see output on console\n",
    "\n",
    "# query = process_attacksCounts \\\n",
    "#     .writeStream \\\n",
    "#     .outputMode(\"append\") \\\n",
    "#     .format(\"console\") \\\n",
    "#     .trigger(processingTime='10 seconds') \\\n",
    "#     .start()"
   ]
  },
  {
   "cell_type": "code",
   "execution_count": 61,
   "metadata": {},
   "outputs": [],
   "source": [
    "# query.stop()"
   ]
  },
  {
   "cell_type": "code",
   "execution_count": 62,
   "metadata": {},
   "outputs": [],
   "source": [
    "# for memory data\n",
    "# groupby with machine and counting distinct (CMD+PID) for each group in the window of 2 minutes\n",
    "memory_attacksCounts = memory_prediction.filter(col(\"prediction\") == 1.0)\\\n",
    "    .groupBy(window(memory_prediction.event_time, \"120 seconds\"), \"machine\")\\\n",
    "    .agg(approx_count_distinct(\"CMD_PID\").alias(\"total_attacks\"))\\\n",
    "    .select(\"window\", \"machine\", \"total_attacks\")"
   ]
  },
  {
   "cell_type": "code",
   "execution_count": 63,
   "metadata": {},
   "outputs": [],
   "source": [
    "#checking working of above code\n",
    "query = memory_attacksCounts \\\n",
    "    .writeStream \\\n",
    "    .outputMode(\"append\") \\\n",
    "    .format(\"memory\") \\\n",
    "    .queryName(\"memory_attacksCounts_tab\") \\\n",
    "    .trigger(processingTime='5 seconds') \\\n",
    "    .start()"
   ]
  },
  {
   "cell_type": "code",
   "execution_count": 65,
   "metadata": {},
   "outputs": [
    {
     "name": "stdout",
     "output_type": "stream",
     "text": [
      "+--------------------+-------+-------------+\n",
      "|              window|machine|total_attacks|\n",
      "+--------------------+-------+-------------+\n",
      "|[2020-11-01 00:46...|      4|           22|\n",
      "|[2020-11-01 00:54...|      6|           19|\n",
      "|[2020-11-01 00:50...|      7|            8|\n",
      "|[2020-11-01 00:48...|      4|           28|\n",
      "|[2020-11-01 00:46...|      8|            5|\n",
      "|[2020-11-01 00:52...|      4|           11|\n",
      "|[2020-11-01 00:48...|      5|            6|\n",
      "|[2020-11-01 00:54...|      7|            9|\n",
      "|[2020-11-01 00:48...|      7|           19|\n",
      "|[2020-11-01 00:54...|      8|            5|\n",
      "|[2020-11-01 00:52...|      6|            3|\n",
      "|[2020-11-01 00:46...|      5|            9|\n",
      "|[2020-11-01 00:48...|      8|            4|\n",
      "|[2020-11-01 00:50...|      4|           16|\n",
      "|[2020-11-01 00:50...|      5|           12|\n",
      "|[2020-11-01 00:52...|      7|           16|\n",
      "|[2020-11-01 00:52...|      8|            3|\n",
      "|[2020-11-01 00:46...|      7|           17|\n",
      "|[2020-11-01 00:50...|      8|            6|\n",
      "|[2020-11-01 00:52...|      5|           14|\n",
      "+--------------------+-------+-------------+\n",
      "only showing top 20 rows\n",
      "\n"
     ]
    }
   ],
   "source": [
    "# wait few minutes before running it\n",
    "spark.sql(\"select * from memory_attacksCounts_tab\").show()"
   ]
  },
  {
   "cell_type": "code",
   "execution_count": 66,
   "metadata": {},
   "outputs": [],
   "source": [
    "query.stop()"
   ]
  },
  {
   "cell_type": "code",
   "execution_count": 67,
   "metadata": {},
   "outputs": [],
   "source": [
    "# uncomment to see output on console\n",
    "\n",
    "# query = memory_attacksCounts \\\n",
    "#     .writeStream \\\n",
    "#     .outputMode(\"append\") \\\n",
    "#     .format(\"console\") \\\n",
    "#     .trigger(processingTime='10 seconds') \\\n",
    "#     .start()"
   ]
  },
  {
   "cell_type": "code",
   "execution_count": 68,
   "metadata": {},
   "outputs": [],
   "source": [
    "# query.stop()"
   ]
  },
  {
   "cell_type": "markdown",
   "metadata": {},
   "source": [
    "- b) If a program in one machine, having the same “CMD” and “PID” in both\n",
    "process and memory streaming data, is predicted as an attack in BOTH\n",
    "process and memory activity prediction, then I am considered it as an attack\n",
    "event. \n",
    "Finding the streaming events fulfilling the criteria, creating a new column to record the processing time and persist them in parquet.\n",
    "\n",
    "    - Note the program with the same “CMD” and “PID” might not be generated at the exact same event time. If the difference between the event times in process and memory is less than 30 seconds and the program fulfills the criteria of matching “CMD” and “PID”, then I am including them for the above checking.\n",
    "    - If there are multiple entries fulfilling the above criteria in process or memory, not removing the extra entries\n",
    "    - Persisting the program’s relevant information (including process & memory data, process & memory’s event and processing timestamp, and prediction result) into parquet format with the name of “process_memory_attack.parquet”"
   ]
  },
  {
   "cell_type": "code",
   "execution_count": 69,
   "metadata": {},
   "outputs": [],
   "source": [
    "# remaning column names so that there will be no confusion after joing both the tables\n",
    "\n",
    "memory_prediction_c = process_prediction.select(*(col(x).alias(x + '_m') for x in process_prediction.columns))\n",
    "\n",
    "process_prediction_c = memory_prediction.select(*(col(x).alias(x + '_p') for x in memory_prediction.columns))"
   ]
  },
  {
   "cell_type": "code",
   "execution_count": 70,
   "metadata": {},
   "outputs": [],
   "source": [
    "# joining tables on CMD_PID column\n",
    "joined_df = memory_prediction_c.join(process_prediction_c, on = (memory_prediction_c[\"CMD_PID_m\"] == process_prediction_c[\"CMD_PID_p\"]) &  (memory_prediction_c[\"prediction_m\"] == process_prediction_c[\"prediction_p\"]), how = \"inner\")\\\n",
    "            .select(process_prediction_c[\"CMD_PID_p\"], process_prediction_c[\"machine_p\"], process_prediction_c[\"event_time_p\"], memory_prediction_c[\"event_time_m\"], process_prediction_c[\"prediction_p\"], memory_prediction_c[\"prediction_m\"])"
   ]
  },
  {
   "cell_type": "code",
   "execution_count": 71,
   "metadata": {},
   "outputs": [],
   "source": [
    "# uncomment to see output on console\n",
    "\n",
    "# query = joined_df \\\n",
    "#     .writeStream \\\n",
    "#     .outputMode(\"append\") \\\n",
    "#     .format(\"console\") \\\n",
    "#     .trigger(processingTime='5 seconds') \\\n",
    "#     .start()"
   ]
  },
  {
   "cell_type": "code",
   "execution_count": 72,
   "metadata": {},
   "outputs": [],
   "source": [
    "# query.stop()"
   ]
  },
  {
   "cell_type": "code",
   "execution_count": 73,
   "metadata": {},
   "outputs": [],
   "source": [
    "#creating new column time_diff in joined table which will be helpful in indentif6ing attack\n",
    "def time_diff(event_time_p, event_time_m):\n",
    "    \n",
    "    if event_time_p > event_time_m:\n",
    "        td = event_time_p - event_time_m\n",
    "    else:\n",
    "        td = event_time_m - event_time_p\n",
    "        \n",
    "    return int(td.total_seconds())\n",
    "\n",
    "time_diff_udf = udf(time_diff, IntegerType())\n",
    "\n",
    "joined_df = joined_df.withColumn('time_diff', time_diff_udf('event_time_p', 'event_time_m'))"
   ]
  },
  {
   "cell_type": "code",
   "execution_count": 74,
   "metadata": {},
   "outputs": [],
   "source": [
    "# uncomment to see output on console\n",
    "\n",
    "# query = joined_df \\\n",
    "#     .writeStream \\\n",
    "#     .outputMode(\"append\") \\\n",
    "#     .format(\"console\") \\\n",
    "#     .trigger(processingTime='5 seconds') \\\n",
    "#     .start()"
   ]
  },
  {
   "cell_type": "code",
   "execution_count": 75,
   "metadata": {},
   "outputs": [],
   "source": [
    "# query.stop()"
   ]
  },
  {
   "cell_type": "code",
   "execution_count": 76,
   "metadata": {},
   "outputs": [],
   "source": [
    "# creating a new column to record the processing time\n",
    "joined_df = joined_df.withColumn('process_time', current_timestamp())"
   ]
  },
  {
   "cell_type": "code",
   "execution_count": 77,
   "metadata": {},
   "outputs": [],
   "source": [
    "#filtering out joined row which have more than 30 seconds of time difference\n",
    "# and also selecting row only which are prediction = attack\n",
    "attack_joined_df = joined_df.filter(col(\"time_diff\") > 30).filter((col(\"prediction_p\") == 1.0) & (col(\"prediction_m\") == 1.0))"
   ]
  },
  {
   "cell_type": "code",
   "execution_count": 78,
   "metadata": {},
   "outputs": [],
   "source": [
    "attacks_Counts = attack_joined_df \\\n",
    "    .groupBy(window(attack_joined_df.event_time_p, \"120 seconds\"), \"machine_p\")\\\n",
    "    .agg(sum(attack_joined_df[\"prediction_p\"]).alias(\"total_attacks\"))\\\n",
    "    .select(\"window\", \"machine_p\", \"total_attacks\")"
   ]
  },
  {
   "cell_type": "code",
   "execution_count": 79,
   "metadata": {},
   "outputs": [],
   "source": [
    "#checking working of above code\n",
    "query = attacks_Counts \\\n",
    "    .writeStream \\\n",
    "    .outputMode(\"append\") \\\n",
    "    .format(\"memory\") \\\n",
    "    .queryName(\"attacks_Counts_tab\") \\\n",
    "    .trigger(processingTime='5 seconds') \\\n",
    "    .start()"
   ]
  },
  {
   "cell_type": "code",
   "execution_count": 82,
   "metadata": {},
   "outputs": [
    {
     "name": "stdout",
     "output_type": "stream",
     "text": [
      "+--------------------+---------+-------------+\n",
      "|              window|machine_p|total_attacks|\n",
      "+--------------------+---------+-------------+\n",
      "|[2020-11-01 00:46...|        4|         18.0|\n",
      "|[2020-11-01 00:54...|        6|          9.0|\n",
      "|[2020-11-01 00:48...|        4|         18.0|\n",
      "|[2020-11-01 00:52...|        4|         12.0|\n",
      "|[2020-11-01 00:48...|        5|         40.0|\n",
      "|[2020-11-01 00:56...|        4|         28.0|\n",
      "|[2020-11-01 00:56...|        5|         64.0|\n",
      "|[2020-11-01 00:52...|        6|          6.0|\n",
      "|[2020-11-01 00:46...|        5|         58.0|\n",
      "|[2020-11-01 00:50...|        4|         22.0|\n",
      "|[2020-11-01 00:50...|        5|         86.0|\n",
      "|[2020-11-01 00:52...|        5|         74.0|\n",
      "|[2020-11-01 00:56...|        6|         78.0|\n",
      "|[2020-11-01 00:54...|        5|        110.0|\n",
      "|[2020-11-01 00:54...|        4|         30.0|\n",
      "+--------------------+---------+-------------+\n",
      "\n"
     ]
    }
   ],
   "source": [
    "# wait few minutes before running it\n",
    "spark.sql(\"select * from attacks_Counts_tab\").show()"
   ]
  },
  {
   "cell_type": "code",
   "execution_count": 83,
   "metadata": {},
   "outputs": [],
   "source": [
    "query.stop()"
   ]
  },
  {
   "cell_type": "code",
   "execution_count": 84,
   "metadata": {},
   "outputs": [],
   "source": [
    "# uncomment to see output on console\n",
    "\n",
    "# query = attacks_Counts \\\n",
    "#     .writeStream \\\n",
    "#     .outputMode(\"append\") \\\n",
    "#     .format(\"console\") \\\n",
    "#     .trigger(processingTime='5 seconds') \\\n",
    "#     .start()"
   ]
  },
  {
   "cell_type": "code",
   "execution_count": 85,
   "metadata": {},
   "outputs": [],
   "source": [
    "# query.stop()"
   ]
  },
  {
   "cell_type": "code",
   "execution_count": 86,
   "metadata": {},
   "outputs": [],
   "source": [
    "# Persist the program’s relevant information into parquet format\n",
    "attacks_Counts_query = attacks_Counts.writeStream.format(\"parquet\")\\\n",
    "        .outputMode(\"append\")\\\n",
    "        .option(\"path\", \"process_memory_attack\")\\\n",
    "        .option(\"checkpointLocation\", \"attacks_Counts_checkpoint\")\\\n",
    "        .start()"
   ]
  },
  {
   "cell_type": "code",
   "execution_count": 87,
   "metadata": {},
   "outputs": [],
   "source": [
    "attacks_Counts_query.stop()"
   ]
  }
 ],
 "metadata": {
  "kernelspec": {
   "display_name": "Python 3",
   "language": "python",
   "name": "python3"
  },
  "language_info": {
   "codemirror_mode": {
    "name": "ipython",
    "version": 3
   },
   "file_extension": ".py",
   "mimetype": "text/x-python",
   "name": "python",
   "nbconvert_exporter": "python",
   "pygments_lexer": "ipython3",
   "version": "3.8.3"
  }
 },
 "nbformat": 4,
 "nbformat_minor": 4
}
